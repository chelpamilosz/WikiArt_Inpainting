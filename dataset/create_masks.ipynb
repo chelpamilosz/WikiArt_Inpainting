{
 "cells": [
  {
   "cell_type": "code",
   "execution_count": 1,
   "id": "cc12d366",
   "metadata": {
    "execution": {
     "iopub.execute_input": "2025-01-09T14:48:24.236508Z",
     "iopub.status.busy": "2025-01-09T14:48:24.236044Z",
     "iopub.status.idle": "2025-01-09T14:48:24.904836Z",
     "shell.execute_reply": "2025-01-09T14:48:24.904017Z"
    },
    "papermill": {
     "duration": 0.674448,
     "end_time": "2025-01-09T14:48:24.906541",
     "exception": false,
     "start_time": "2025-01-09T14:48:24.232093",
     "status": "completed"
    },
    "tags": []
   },
   "outputs": [],
   "source": [
    "import h5py\n",
    "import numpy as np\n",
    "import cv2\n",
    "from tqdm import tqdm\n",
    "import matplotlib.pyplot as plt"
   ]
  },
  {
   "cell_type": "code",
   "execution_count": 2,
   "id": "013c9882",
   "metadata": {
    "execution": {
     "iopub.execute_input": "2025-01-09T14:48:24.912463Z",
     "iopub.status.busy": "2025-01-09T14:48:24.912062Z",
     "iopub.status.idle": "2025-01-09T14:48:24.920991Z",
     "shell.execute_reply": "2025-01-09T14:48:24.920185Z"
    },
    "papermill": {
     "duration": 0.013311,
     "end_time": "2025-01-09T14:48:24.922554",
     "exception": false,
     "start_time": "2025-01-09T14:48:24.909243",
     "status": "completed"
    },
    "tags": []
   },
   "outputs": [],
   "source": [
    "class MaskGenerator:\n",
    "    def _generate_square_mask(self, image_shape, min_square_side=12, max_square_side=22):\n",
    "        width, height = image_shape[1], image_shape[0]\n",
    "\n",
    "        mask = np.zeros((height, width), dtype=np.uint8)\n",
    "\n",
    "        square_side = np.random.randint(min_square_side, max_square_side + 1)\n",
    "\n",
    "        x = np.random.randint(0, width - square_side)\n",
    "        y = np.random.randint(0, height - square_side)\n",
    "\n",
    "        mask[y:y + square_side, x:x + square_side] = 1\n",
    "\n",
    "        return mask\n",
    "\n",
    "    def _generate_irregular_mask(self, image_shape, max_radius=14, min_radius=6, points=10):\n",
    "        width, height = image_shape[1], image_shape[0]\n",
    "\n",
    "        mask = np.zeros((height, width), dtype=np.uint8)\n",
    "\n",
    "        x_center = np.random.randint(max_radius, width - max_radius)\n",
    "        y_center = np.random.randint(max_radius, height - max_radius)\n",
    "\n",
    "        angles = np.linspace(0, 2 * np.pi, points, endpoint=False)\n",
    "        radii = np.random.randint(min_radius, max_radius, size=points)\n",
    "        vertices = [\n",
    "            (\n",
    "                int(x_center + radius * np.cos(angle)),\n",
    "                int(y_center + radius * np.sin(angle))\n",
    "            )\n",
    "            for angle, radius in zip(angles, radii)\n",
    "        ]\n",
    "\n",
    "        vertices.append(vertices[0])\n",
    "\n",
    "        polygon = np.array(vertices, dtype=np.int32)\n",
    "        cv2.fillPoly(mask, [polygon], 1)\n",
    "\n",
    "        return mask"
   ]
  },
  {
   "cell_type": "code",
   "execution_count": 3,
   "id": "66b53274",
   "metadata": {
    "execution": {
     "iopub.execute_input": "2025-01-09T14:48:24.927561Z",
     "iopub.status.busy": "2025-01-09T14:48:24.927307Z",
     "iopub.status.idle": "2025-01-09T14:48:25.119318Z",
     "shell.execute_reply": "2025-01-09T14:48:25.118339Z"
    },
    "papermill": {
     "duration": 0.196382,
     "end_time": "2025-01-09T14:48:25.121045",
     "exception": false,
     "start_time": "2025-01-09T14:48:24.924663",
     "status": "completed"
    },
    "tags": []
   },
   "outputs": [
    {
     "name": "stderr",
     "output_type": "stream",
     "text": [
      "Processing square.h5: 100%|██████████| 10/10 [00:00<00:00, 214.85it/s]\n",
      "Processing irregular.h5: 100%|██████████| 10/10 [00:00<00:00, 85.62it/s]"
     ]
    },
    {
     "name": "stdout",
     "output_type": "stream",
     "text": [
      "Datasets created successfully in square.h5 and irregular.h5\n"
     ]
    },
    {
     "name": "stderr",
     "output_type": "stream",
     "text": [
      "\n"
     ]
    }
   ],
   "source": [
    "def save_masks_to_h5(filename, generator_func, image_shape=(224, 224), num_samples=500, batch_size=50):\n",
    "    with h5py.File(filename, 'w') as h5f:\n",
    "        h5_dataset = h5f.create_dataset('mask', shape=(num_samples, *image_shape), dtype='uint8')\n",
    "        for i in tqdm(range(0, num_samples, batch_size), desc=f'Processing {filename}'):\n",
    "            batch_data = [\n",
    "                generator_func(image_shape) for _ in range(min(batch_size, num_samples - i))\n",
    "            ]\n",
    "            h5_dataset[i:i + len(batch_data)] = batch_data\n",
    "\n",
    "# Generator instance\n",
    "generator = MaskGenerator()\n",
    "\n",
    "# Save square masks\n",
    "save_masks_to_h5('square.h5', generator._generate_square_mask)\n",
    "\n",
    "# Save irregular masks\n",
    "save_masks_to_h5('irregular.h5', generator._generate_irregular_mask)\n",
    "\n",
    "print('Datasets created successfully in square.h5 and irregular.h5')"
   ]
  },
  {
   "cell_type": "code",
   "execution_count": 4,
   "id": "27bc7d5e",
   "metadata": {
    "execution": {
     "iopub.execute_input": "2025-01-09T14:48:25.127002Z",
     "iopub.status.busy": "2025-01-09T14:48:25.126663Z",
     "iopub.status.idle": "2025-01-09T14:48:25.131448Z",
     "shell.execute_reply": "2025-01-09T14:48:25.130456Z"
    },
    "papermill": {
     "duration": 0.009453,
     "end_time": "2025-01-09T14:48:25.133036",
     "exception": false,
     "start_time": "2025-01-09T14:48:25.123583",
     "status": "completed"
    },
    "tags": []
   },
   "outputs": [],
   "source": [
    "def display_mask_from_h5(filename, index=0):\n",
    "    with h5py.File(filename, 'r') as h5f:\n",
    "        mask = h5f['mask'][index]\n",
    "        print(mask.shape)\n",
    "        plt.imshow(mask, cmap='gray')\n",
    "        plt.title(f'Mask from {filename} at index {index}')\n",
    "        plt.axis('off')\n",
    "        plt.show()"
   ]
  },
  {
   "cell_type": "code",
   "execution_count": 5,
   "id": "bee62c4d",
   "metadata": {
    "execution": {
     "iopub.execute_input": "2025-01-09T14:48:25.138932Z",
     "iopub.status.busy": "2025-01-09T14:48:25.138604Z",
     "iopub.status.idle": "2025-01-09T14:48:25.312255Z",
     "shell.execute_reply": "2025-01-09T14:48:25.311381Z"
    },
    "papermill": {
     "duration": 0.178139,
     "end_time": "2025-01-09T14:48:25.313759",
     "exception": false,
     "start_time": "2025-01-09T14:48:25.135620",
     "status": "completed"
    },
    "tags": []
   },
   "outputs": [
    {
     "name": "stdout",
     "output_type": "stream",
     "text": [
      "(224, 224)\n"
     ]
    },
    {
     "data": {
      "image/png": "[encoded data removed]",
      "text/plain": [
       "<Figure size 640x480 with 1 Axes>"
      ]
     },
     "metadata": {},
     "output_type": "display_data"
    }
   ],
   "source": [
    "display_mask_from_h5('irregular.h5', index=90)"
   ]
  },
  {
   "cell_type": "code",
   "execution_count": 6,
   "id": "3b5a3eb7",
   "metadata": {
    "execution": {
     "iopub.execute_input": "2025-01-09T14:48:25.320577Z",
     "iopub.status.busy": "2025-01-09T14:48:25.320305Z",
     "iopub.status.idle": "2025-01-09T14:48:25.496744Z",
     "shell.execute_reply": "2025-01-09T14:48:25.495720Z"
    },
    "papermill": {
     "duration": 0.181336,
     "end_time": "2025-01-09T14:48:25.498232",
     "exception": false,
     "start_time": "2025-01-09T14:48:25.316896",
     "status": "completed"
    },
    "tags": []
   },
   "outputs": [
    {
     "name": "stdout",
     "output_type": "stream",
     "text": [
      "(224, 224)\n"
     ]
    },
    {
     "data": {
      "image/png": "[encoded data removed]",
      "text/plain": [
       "<Figure size 640x480 with 1 Axes>"
      ]
     },
     "metadata": {},
     "output_type": "display_data"
    }
   ],
   "source": [
    "display_mask_from_h5('square.h5', index=50)"
   ]
  }
 ],
 "metadata": {
  "kaggle": {
   "accelerator": "none",
   "dataSources": [],
   "dockerImageVersionId": 30822,
   "isGpuEnabled": false,
   "isInternetEnabled": true,
   "language": "python",
   "sourceType": "notebook"
  },
  "kernelspec": {
   "display_name": "Python 3",
   "language": "python",
   "name": "python3"
  },
  "language_info": {
   "codemirror_mode": {
    "name": "ipython",
    "version": 3
   },
   "file_extension": ".py",
   "mimetype": "text/x-python",
   "name": "python",
   "nbconvert_exporter": "python",
   "pygments_lexer": "ipython3",
   "version": "3.10.12"
  },
  "papermill": {
   "default_parameters": {},
   "duration": 3.916589,
   "end_time": "2025-01-09T14:48:25.919039",
   "environment_variables": {},
   "exception": null,
   "input_path": "__notebook__.ipynb",
   "output_path": "__notebook__.ipynb",
   "parameters": {},
   "start_time": "2025-01-09T14:48:22.002450",
   "version": "2.6.0"
  }
 },
 "nbformat": 4,
 "nbformat_minor": 5
}
