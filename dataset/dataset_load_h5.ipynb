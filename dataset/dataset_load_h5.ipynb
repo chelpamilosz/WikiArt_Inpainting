{
 "cells": [
  {
   "cell_type": "code",
   "execution_count": 8,
   "metadata": {},
   "outputs": [
    {
     "name": "stdout",
     "output_type": "stream",
     "text": [
      "Kształt tensora: torch.Size([100, 3, 256, 256])\n",
      "Typ danych: torch.uint8\n"
     ]
    }
   ],
   "source": [
    "import h5py\n",
    "import torch\n",
    "import numpy as np\n",
    "\n",
    "# Wczytywanie danych z pliku .h5\n",
    "with h5py.File(r'C:\\vscodeProjects\\WikiArt_Inpainting\\images_tensor_data.h5', 'r') as h5f:\n",
    "    # Pobranie zestawu danych 'image'\n",
    "    image_data = h5f['image'][:]\n",
    "    \n",
    "    # Konwersja wczytanych danych do tensora PyTorch\n",
    "    image_tensor = torch.tensor(image_data, dtype=torch.uint8)\n",
    "\n",
    "# Wyświetl informacje o załadowanym tensorze\n",
    "print(\"Kształt tensora:\", image_tensor.shape)\n",
    "print(\"Typ danych:\", image_tensor.dtype)\n"
   ]
  }
 ],
 "metadata": {
  "kernelspec": {
   "display_name": "unn",
   "language": "python",
   "name": "python3"
  },
  "language_info": {
   "codemirror_mode": {
    "name": "ipython",
    "version": 3
   },
   "file_extension": ".py",
   "mimetype": "text/x-python",
   "name": "python",
   "nbconvert_exporter": "python",
   "pygments_lexer": "ipython3",
   "version": "3.11.10"
  }
 },
 "nbformat": 4,
 "nbformat_minor": 2
}
