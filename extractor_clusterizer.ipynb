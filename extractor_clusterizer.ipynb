{
  "cells": [
    {
      "cell_type": "code",
      "execution_count": 1,
      "metadata": {
        "id": "-9FR4giqaeiw",
        "colab": {
          "base_uri": "https://localhost:8080/"
        },
        "outputId": "49377e6a-40a5-4071-cc0e-ed3619479265"
      },
      "outputs": [
        {
          "output_type": "stream",
          "name": "stdout",
          "text": [
            "\u001b[?25l   \u001b[90m━━━━━━━━━━━━━━━━━━━━━━━━━━━━━━━━━━━━━━━━\u001b[0m \u001b[32m0.0/710.6 kB\u001b[0m \u001b[31m?\u001b[0m eta \u001b[36m-:--:--\u001b[0m\r\u001b[2K   \u001b[91m━━━━━━━━━━━━━━━━━━━━━━━━━━━━━━━━━━━━━━━\u001b[0m\u001b[91m╸\u001b[0m \u001b[32m706.6/710.6 kB\u001b[0m \u001b[31m23.2 MB/s\u001b[0m eta \u001b[36m0:00:01\u001b[0m\r\u001b[2K   \u001b[90m━━━━━━━━━━━━━━━━━━━━━━━━━━━━━━━━━━━━━━━━\u001b[0m \u001b[32m710.6/710.6 kB\u001b[0m \u001b[31m13.4 MB/s\u001b[0m eta \u001b[36m0:00:00\u001b[0m\n",
            "\u001b[2K   \u001b[90m━━━━━━━━━━━━━━━━━━━━━━━━━━━━━━━━━━━━━━━━\u001b[0m \u001b[32m980.3/980.3 kB\u001b[0m \u001b[31m21.5 MB/s\u001b[0m eta \u001b[36m0:00:00\u001b[0m\n",
            "\u001b[2K   \u001b[90m━━━━━━━━━━━━━━━━━━━━━━━━━━━━━━━━━━━━━━━━\u001b[0m \u001b[32m3.3/3.3 MB\u001b[0m \u001b[31m33.9 MB/s\u001b[0m eta \u001b[36m0:00:00\u001b[0m\n",
            "\u001b[2K   \u001b[90m━━━━━━━━━━━━━━━━━━━━━━━━━━━━━━━━━━━━━━━━\u001b[0m \u001b[32m137.9/137.9 kB\u001b[0m \u001b[31m5.9 MB/s\u001b[0m eta \u001b[36m0:00:00\u001b[0m\n",
            "\u001b[2K     \u001b[90m━━━━━━━━━━━━━━━━━━━━━━━━━━━━━━━━━━━━━━━━\u001b[0m \u001b[32m40.4/40.4 kB\u001b[0m \u001b[31m1.5 MB/s\u001b[0m eta \u001b[36m0:00:00\u001b[0m\n",
            "\u001b[2K   \u001b[90m━━━━━━━━━━━━━━━━━━━━━━━━━━━━━━━━━━━━━━━━\u001b[0m \u001b[32m815.2/815.2 kB\u001b[0m \u001b[31m13.6 MB/s\u001b[0m eta \u001b[36m0:00:00\u001b[0m\n",
            "\u001b[2K   \u001b[90m━━━━━━━━━━━━━━━━━━━━━━━━━━━━━━━━━━━━━━━━\u001b[0m \u001b[32m927.3/927.3 kB\u001b[0m \u001b[31m32.4 MB/s\u001b[0m eta \u001b[36m0:00:00\u001b[0m\n",
            "\u001b[2K   \u001b[90m━━━━━━━━━━━━━━━━━━━━━━━━━━━━━━━━━━━━━━━━\u001b[0m \u001b[32m819.3/819.3 kB\u001b[0m \u001b[31m32.8 MB/s\u001b[0m eta \u001b[36m0:00:00\u001b[0m\n",
            "\u001b[?25hCollecting umap-learn\n",
            "  Downloading umap_learn-0.5.7-py3-none-any.whl.metadata (21 kB)\n",
            "Requirement already satisfied: numpy>=1.17 in /usr/local/lib/python3.10/dist-packages (from umap-learn) (1.26.4)\n",
            "Requirement already satisfied: scipy>=1.3.1 in /usr/local/lib/python3.10/dist-packages (from umap-learn) (1.13.1)\n",
            "Requirement already satisfied: scikit-learn>=0.22 in /usr/local/lib/python3.10/dist-packages (from umap-learn) (1.6.0)\n",
            "Requirement already satisfied: numba>=0.51.2 in /usr/local/lib/python3.10/dist-packages (from umap-learn) (0.60.0)\n",
            "Collecting pynndescent>=0.5 (from umap-learn)\n",
            "  Downloading pynndescent-0.5.13-py3-none-any.whl.metadata (6.8 kB)\n",
            "Requirement already satisfied: tqdm in /usr/local/lib/python3.10/dist-packages (from umap-learn) (4.67.1)\n",
            "Requirement already satisfied: llvmlite<0.44,>=0.43.0dev0 in /usr/local/lib/python3.10/dist-packages (from numba>=0.51.2->umap-learn) (0.43.0)\n",
            "Requirement already satisfied: joblib>=0.11 in /usr/local/lib/python3.10/dist-packages (from pynndescent>=0.5->umap-learn) (1.4.2)\n",
            "Requirement already satisfied: threadpoolctl>=3.1.0 in /usr/local/lib/python3.10/dist-packages (from scikit-learn>=0.22->umap-learn) (3.5.0)\n",
            "Downloading umap_learn-0.5.7-py3-none-any.whl (88 kB)\n",
            "\u001b[2K   \u001b[90m━━━━━━━━━━━━━━━━━━━━━━━━━━━━━━━━━━━━━━━━\u001b[0m \u001b[32m88.8/88.8 kB\u001b[0m \u001b[31m2.9 MB/s\u001b[0m eta \u001b[36m0:00:00\u001b[0m\n",
            "\u001b[?25hDownloading pynndescent-0.5.13-py3-none-any.whl (56 kB)\n",
            "\u001b[2K   \u001b[90m━━━━━━━━━━━━━━━━━━━━━━━━━━━━━━━━━━━━━━━━\u001b[0m \u001b[32m56.9/56.9 kB\u001b[0m \u001b[31m3.6 MB/s\u001b[0m eta \u001b[36m0:00:00\u001b[0m\n",
            "\u001b[?25hInstalling collected packages: pynndescent, umap-learn\n",
            "Successfully installed pynndescent-0.5.13 umap-learn-0.5.7\n"
          ]
        }
      ],
      "source": [
        "!pip install -q comet-ml\n",
        "!pip install -q lightning\n",
        "!pip install -q torchinfo\n",
        "!pip install -q einops\n",
        "!pip install umap-learn"
      ]
    },
    {
      "cell_type": "code",
      "execution_count": 2,
      "metadata": {
        "colab": {
          "base_uri": "https://localhost:8080/"
        },
        "id": "LhbZNFFcatz4",
        "outputId": "1f02ef16-dc23-4ec3-d6f9-fb6eb1a7f357"
      },
      "outputs": [
        {
          "output_type": "stream",
          "name": "stderr",
          "text": [
            "INFO: CometLogger will be initialized in online mode\n",
            "INFO:lightning.pytorch.loggers.comet:CometLogger will be initialized in online mode\n"
          ]
        }
      ],
      "source": [
        "# JEŻELI KOMÓRKA W KTÓREJ JEST TRENOWANIE ZOSTANIE PRZERWANA LUB SIĘ SKOŃCZY TO TRZEBA URUCHOMIĆ TĘ KOMÓRKĘ PONOWNIE!!!\n",
        "# inaczej poprzedni eksperyment nie zakończy się i nowy trening będzie logowany w przerwanym eksperymencie\n",
        "\n",
        "from lightning.pytorch.loggers import CometLogger\n",
        "from google.colab import userdata\n",
        "\n",
        "secret_value_0 = userdata.get('COMET_API_KEY')\n",
        "\n",
        "comet_logger = CometLogger(\n",
        "    api_key=secret_value_0,\n",
        "    project_name=f'clustering',\n",
        "    workspace='wikiart-inpainting',\n",
        ")\n",
        "\n",
        "#project_name=f'feature_extraction',\n",
        "#project_name=f'clustering',\n"
      ]
    },
    {
      "cell_type": "code",
      "execution_count": 3,
      "metadata": {
        "id": "CLazUUYdbS2H"
      },
      "outputs": [],
      "source": [
        "#Biblioteki do przetwarzania danych i modeli\n",
        "import torch\n",
        "import torch.nn as nn\n",
        "import torch.optim as optim\n",
        "from torchinfo import summary\n",
        "from torch.utils.data import Dataset, DataLoader\n",
        "from torchvision import transforms, models\n",
        "import pytorch_lightning as pl\n",
        "from pytorch_lightning.callbacks import ModelCheckpoint, EarlyStopping\n",
        "from torchmetrics.classification import MulticlassAccuracy\n",
        "import h5py\n",
        "from einops import rearrange\n",
        "import pandas as pd\n",
        "import numpy as np\n",
        "from torchvision.transforms import v2\n",
        "import torchvision.utils as vutils\n",
        "from PIL import Image\n",
        "\n",
        "#Biblioteki do klasteryzacji\n",
        "from sklearn.cluster import KMeans\n",
        "\n",
        "#Biblioteki do redukcji wymiarowości\n",
        "from sklearn.decomposition import PCA\n",
        "from sklearn.manifold import TSNE\n",
        "\n",
        "#Biblioteki do wizualizacji\n",
        "import matplotlib.pyplot as plt\n",
        "\n",
        "#Biblioteki pomocnicze\n",
        "from tqdm import tqdm\n",
        "\n",
        "\n",
        "# Importy\n",
        "import os\n",
        "import sys\n",
        "\n"
      ]
    },
    {
      "cell_type": "code",
      "execution_count": 4,
      "metadata": {
        "colab": {
          "base_uri": "https://localhost:8080/"
        },
        "id": "M2PbQxenkEc6",
        "outputId": "584e53c8-ba0a-4f68-d14a-ed083be41970"
      },
      "outputs": [
        {
          "output_type": "stream",
          "name": "stdout",
          "text": [
            "Mounted at /content/drive\n"
          ]
        }
      ],
      "source": [
        "# Podłączenie Google Drive\n",
        "from google.colab import drive\n",
        "drive.mount('/content/drive')\n",
        "\n",
        "# Ścieżka do zapisu modeli\n",
        "save_dir = '/content/drive/MyDrive/models'\n",
        "os.makedirs(save_dir, exist_ok=True)\n",
        "\n"
      ]
    },
    {
      "cell_type": "code",
      "execution_count": 5,
      "metadata": {
        "id": "AZaNgAa9kEc6"
      },
      "outputs": [],
      "source": [
        "#Pakiety\n",
        "'''Należy podać ścieżkę do lokalizacji pakietów!'''\n",
        "\n",
        "sys.path.append('/content/drive/My Drive/FeatureExtractor')\n",
        "sys.path.append('/content/drive/My Drive/Clustering')\n",
        "\n",
        "from FeatureExtractor import FeatureExtractor\n",
        "from UNetLightning import UNetLightning\n",
        "from Clusterizer import Clusterizer"
      ]
    },
    {
      "cell_type": "code",
      "execution_count": 5,
      "metadata": {
        "colab": {
          "base_uri": "https://localhost:8080/"
        },
        "id": "j8gu4ULVbiaU",
        "outputId": "a581834c-a886-4dd9-88ef-c997a72440a8"
      },
      "outputs": [
        {
          "output_type": "stream",
          "name": "stdout",
          "text": [
            "Używane urządzenie: cuda\n"
          ]
        }
      ],
      "source": [
        "#Wybór urządzenia GPU (CUDA), jeśli dostępne\n",
        "device = torch.device(\"cuda\" if torch.cuda.is_available() else \"cpu\")\n",
        "print(\"Używane urządzenie:\", device)"
      ]
    },
    {
      "cell_type": "markdown",
      "metadata": {
        "id": "JZl4-SL-RYzq"
      },
      "source": [
        "## Dane"
      ]
    },
    {
      "cell_type": "markdown",
      "metadata": {
        "id": "RBVVLtQ5LOkM"
      },
      "source": [
        "### Pobranie datasetu z Kaggle"
      ]
    },
    {
      "cell_type": "code",
      "execution_count": 5,
      "metadata": {
        "colab": {
          "base_uri": "https://localhost:8080/",
          "height": 73
        },
        "id": "cgLFdxh_bmAN",
        "outputId": "d8ca2a61-447e-438b-d2c9-3b442ab8d2a8"
      },
      "outputs": [
        {
          "output_type": "display_data",
          "data": {
            "text/plain": [
              "<IPython.core.display.HTML object>"
            ],
            "text/html": [
              "\n",
              "     <input type=\"file\" id=\"files-5eea0e16-7caa-4f15-84e8-10889fddbb20\" name=\"files[]\" multiple disabled\n",
              "        style=\"border:none\" />\n",
              "     <output id=\"result-5eea0e16-7caa-4f15-84e8-10889fddbb20\">\n",
              "      Upload widget is only available when the cell has been executed in the\n",
              "      current browser session. Please rerun this cell to enable.\n",
              "      </output>\n",
              "      <script>// Copyright 2017 Google LLC\n",
              "//\n",
              "// Licensed under the Apache License, Version 2.0 (the \"License\");\n",
              "// you may not use this file except in compliance with the License.\n",
              "// You may obtain a copy of the License at\n",
              "//\n",
              "//      http://www.apache.org/licenses/LICENSE-2.0\n",
              "//\n",
              "// Unless required by applicable law or agreed to in writing, software\n",
              "// distributed under the License is distributed on an \"AS IS\" BASIS,\n",
              "// WITHOUT WARRANTIES OR CONDITIONS OF ANY KIND, either express or implied.\n",
              "// See the License for the specific language governing permissions and\n",
              "// limitations under the License.\n",
              "\n",
              "/**\n",
              " * @fileoverview Helpers for google.colab Python module.\n",
              " */\n",
              "(function(scope) {\n",
              "function span(text, styleAttributes = {}) {\n",
              "  const element = document.createElement('span');\n",
              "  element.textContent = text;\n",
              "  for (const key of Object.keys(styleAttributes)) {\n",
              "    element.style[key] = styleAttributes[key];\n",
              "  }\n",
              "  return element;\n",
              "}\n",
              "\n",
              "// Max number of bytes which will be uploaded at a time.\n",
              "const MAX_PAYLOAD_SIZE = 100 * 1024;\n",
              "\n",
              "function _uploadFiles(inputId, outputId) {\n",
              "  const steps = uploadFilesStep(inputId, outputId);\n",
              "  const outputElement = document.getElementById(outputId);\n",
              "  // Cache steps on the outputElement to make it available for the next call\n",
              "  // to uploadFilesContinue from Python.\n",
              "  outputElement.steps = steps;\n",
              "\n",
              "  return _uploadFilesContinue(outputId);\n",
              "}\n",
              "\n",
              "// This is roughly an async generator (not supported in the browser yet),\n",
              "// where there are multiple asynchronous steps and the Python side is going\n",
              "// to poll for completion of each step.\n",
              "// This uses a Promise to block the python side on completion of each step,\n",
              "// then passes the result of the previous step as the input to the next step.\n",
              "function _uploadFilesContinue(outputId) {\n",
              "  const outputElement = document.getElementById(outputId);\n",
              "  const steps = outputElement.steps;\n",
              "\n",
              "  const next = steps.next(outputElement.lastPromiseValue);\n",
              "  return Promise.resolve(next.value.promise).then((value) => {\n",
              "    // Cache the last promise value to make it available to the next\n",
              "    // step of the generator.\n",
              "    outputElement.lastPromiseValue = value;\n",
              "    return next.value.response;\n",
              "  });\n",
              "}\n",
              "\n",
              "/**\n",
              " * Generator function which is called between each async step of the upload\n",
              " * process.\n",
              " * @param {string} inputId Element ID of the input file picker element.\n",
              " * @param {string} outputId Element ID of the output display.\n",
              " * @return {!Iterable<!Object>} Iterable of next steps.\n",
              " */\n",
              "function* uploadFilesStep(inputId, outputId) {\n",
              "  const inputElement = document.getElementById(inputId);\n",
              "  inputElement.disabled = false;\n",
              "\n",
              "  const outputElement = document.getElementById(outputId);\n",
              "  outputElement.innerHTML = '';\n",
              "\n",
              "  const pickedPromise = new Promise((resolve) => {\n",
              "    inputElement.addEventListener('change', (e) => {\n",
              "      resolve(e.target.files);\n",
              "    });\n",
              "  });\n",
              "\n",
              "  const cancel = document.createElement('button');\n",
              "  inputElement.parentElement.appendChild(cancel);\n",
              "  cancel.textContent = 'Cancel upload';\n",
              "  const cancelPromise = new Promise((resolve) => {\n",
              "    cancel.onclick = () => {\n",
              "      resolve(null);\n",
              "    };\n",
              "  });\n",
              "\n",
              "  // Wait for the user to pick the files.\n",
              "  const files = yield {\n",
              "    promise: Promise.race([pickedPromise, cancelPromise]),\n",
              "    response: {\n",
              "      action: 'starting',\n",
              "    }\n",
              "  };\n",
              "\n",
              "  cancel.remove();\n",
              "\n",
              "  // Disable the input element since further picks are not allowed.\n",
              "  inputElement.disabled = true;\n",
              "\n",
              "  if (!files) {\n",
              "    return {\n",
              "      response: {\n",
              "        action: 'complete',\n",
              "      }\n",
              "    };\n",
              "  }\n",
              "\n",
              "  for (const file of files) {\n",
              "    const li = document.createElement('li');\n",
              "    li.append(span(file.name, {fontWeight: 'bold'}));\n",
              "    li.append(span(\n",
              "        `(${file.type || 'n/a'}) - ${file.size} bytes, ` +\n",
              "        `last modified: ${\n",
              "            file.lastModifiedDate ? file.lastModifiedDate.toLocaleDateString() :\n",
              "                                    'n/a'} - `));\n",
              "    const percent = span('0% done');\n",
              "    li.appendChild(percent);\n",
              "\n",
              "    outputElement.appendChild(li);\n",
              "\n",
              "    const fileDataPromise = new Promise((resolve) => {\n",
              "      const reader = new FileReader();\n",
              "      reader.onload = (e) => {\n",
              "        resolve(e.target.result);\n",
              "      };\n",
              "      reader.readAsArrayBuffer(file);\n",
              "    });\n",
              "    // Wait for the data to be ready.\n",
              "    let fileData = yield {\n",
              "      promise: fileDataPromise,\n",
              "      response: {\n",
              "        action: 'continue',\n",
              "      }\n",
              "    };\n",
              "\n",
              "    // Use a chunked sending to avoid message size limits. See b/62115660.\n",
              "    let position = 0;\n",
              "    do {\n",
              "      const length = Math.min(fileData.byteLength - position, MAX_PAYLOAD_SIZE);\n",
              "      const chunk = new Uint8Array(fileData, position, length);\n",
              "      position += length;\n",
              "\n",
              "      const base64 = btoa(String.fromCharCode.apply(null, chunk));\n",
              "      yield {\n",
              "        response: {\n",
              "          action: 'append',\n",
              "          file: file.name,\n",
              "          data: base64,\n",
              "        },\n",
              "      };\n",
              "\n",
              "      let percentDone = fileData.byteLength === 0 ?\n",
              "          100 :\n",
              "          Math.round((position / fileData.byteLength) * 100);\n",
              "      percent.textContent = `${percentDone}% done`;\n",
              "\n",
              "    } while (position < fileData.byteLength);\n",
              "  }\n",
              "\n",
              "  // All done.\n",
              "  yield {\n",
              "    response: {\n",
              "      action: 'complete',\n",
              "    }\n",
              "  };\n",
              "}\n",
              "\n",
              "scope.google = scope.google || {};\n",
              "scope.google.colab = scope.google.colab || {};\n",
              "scope.google.colab._files = {\n",
              "  _uploadFiles,\n",
              "  _uploadFilesContinue,\n",
              "};\n",
              "})(self);\n",
              "</script> "
            ]
          },
          "metadata": {}
        },
        {
          "output_type": "stream",
          "name": "stdout",
          "text": [
            "Saving kaggle.json to kaggle (1).json\n"
          ]
        }
      ],
      "source": [
        "from google.colab import files\n",
        "\n",
        "uploaded_files = files.upload()"
      ]
    },
    {
      "cell_type": "code",
      "execution_count": 6,
      "metadata": {
        "id": "22TPv7GOboQ6"
      },
      "outputs": [],
      "source": [
        "!mkdir -p ~/.kaggle\n",
        "!cp kaggle.json ~/.kaggle/\n",
        "!chmod 600 /root/.kaggle/kaggle.json"
      ]
    },
    {
      "cell_type": "code",
      "execution_count": null,
      "metadata": {
        "colab": {
          "base_uri": "https://localhost:8080/"
        },
        "id": "6ZF-0pKPjcHH",
        "outputId": "1115b3bb-6855-4c7d-b750-8632d23015c3"
      },
      "outputs": [
        {
          "name": "stdout",
          "output_type": "stream",
          "text": [
            "No datasets found\n"
          ]
        }
      ],
      "source": [
        "!kaggle datasets list --user milche"
      ]
    },
    {
      "cell_type": "code",
      "execution_count": 7,
      "metadata": {
        "colab": {
          "base_uri": "https://localhost:8080/"
        },
        "id": "bjMcrsL8bpXv",
        "outputId": "fc8265d7-888f-41c4-b11b-10b607a44a10"
      },
      "outputs": [
        {
          "output_type": "stream",
          "name": "stdout",
          "text": [
            "Dataset URL: https://www.kaggle.com/datasets/milche/wikiart-clean-without-split\n",
            "License(s): unknown\n",
            "Downloading wikiart-clean-without-split.zip to /content\n",
            "100% 11.4G/11.4G [02:56<00:00, 153MB/s]\n",
            "100% 11.4G/11.4G [02:56<00:00, 69.8MB/s]\n"
          ]
        }
      ],
      "source": [
        "!kaggle datasets download -d milche/wikiart-clean-without-split"
      ]
    },
    {
      "cell_type": "code",
      "execution_count": 31,
      "metadata": {
        "id": "dUjFgyPfbqzW",
        "colab": {
          "base_uri": "https://localhost:8080/"
        },
        "outputId": "6ad72dbb-dca3-4506-c3c6-03a9347796b3"
      },
      "outputs": [
        {
          "output_type": "stream",
          "name": "stdout",
          "text": [
            "unzip:  cannot find or open wikiart-clean-without-split.zip, wikiart-clean-without-split.zip.zip or wikiart-clean-without-split.zip.ZIP.\n"
          ]
        }
      ],
      "source": [
        "!mkdir wikiart-clean\n",
        "!unzip -q wikiart-clean-without-split.zip -d wikiart-clean"
      ]
    },
    {
      "cell_type": "code",
      "execution_count": 30,
      "metadata": {
        "id": "CJiHUi8Lbu6w"
      },
      "outputs": [],
      "source": [
        "for dirname, _, filenames in os.walk('/content/wikiart-clean'):\n",
        "    for filename in filenames:\n",
        "        print(os.path.join(dirname, filename))"
      ]
    },
    {
      "cell_type": "markdown",
      "metadata": {
        "id": "-d_XZLxELVnr"
      },
      "source": [
        "### Klasa Datasetu WikiArt"
      ]
    },
    {
      "cell_type": "code",
      "execution_count": null,
      "metadata": {
        "id": "47BEsYy0hPJE"
      },
      "outputs": [],
      "source": [
        "class WikiArtDataset(Dataset):\n",
        "    def __init__(self, h5_path: str, csv_path: str, set_type: str, label_col='style', transform=None):\n",
        "        self.h5_path = h5_path\n",
        "        self.df = pd.read_csv(csv_path)\n",
        "        self.df = self.df[self.df['set_type'] == set_type]\n",
        "        self.label_col = label_col\n",
        "        self.transform = transform\n",
        "        self.length = len(self.df)\n",
        "\n",
        "        self.label_mapping = {label: idx for idx, label in enumerate(self.df[self.label_col].unique())}\n",
        "\n",
        "    def __len__(self):\n",
        "        return self.length\n",
        "\n",
        "    def _open_hdf5(self):\n",
        "        if not hasattr(self, '_hf') or self._hf is None:\n",
        "            self._hf = h5py.File(self.h5_path, 'r')\n",
        "\n",
        "    def __getitem__(self, idx):\n",
        "        self._open_hdf5()\n",
        "\n",
        "        row = self.df.iloc[idx]\n",
        "        image_idx = row['h5_index']\n",
        "\n",
        "        label = self.label_mapping[row[self.label_col]]\n",
        "\n",
        "        image = self._hf['image'][image_idx]\n",
        "        image = torch.from_numpy(image)       #.float()\n",
        "\n",
        "        if self.transform:\n",
        "            image = self.transform(image)\n",
        "\n",
        "        return image, label, image_idx"
      ]
    },
    {
      "cell_type": "code",
      "execution_count": null,
      "metadata": {
        "id": "aRLXziwTpymW"
      },
      "outputs": [],
      "source": [
        "transforms = v2.Compose([\n",
        "    v2.ToDtype(torch.float32, scale=True),\n",
        "    # v2.Normalize(mean=[0.5, 0.5, 0.5], std=[0.5, 0.5, 0.5]),\n",
        "])\n",
        "\n",
        "h5_path = '/content/wikiart-clean/dataset.h5'\n",
        "csv_path = '/content/wikiart-clean/annotations.csv'\n",
        "\n",
        "train_dataset = WikiArtDataset(\n",
        "    h5_path=h5_path,\n",
        "    csv_path=csv_path,\n",
        "    set_type='train',\n",
        "    transform=transforms\n",
        ")\n",
        "\n",
        "valid_dataset = WikiArtDataset(\n",
        "    h5_path=h5_path,\n",
        "    csv_path=csv_path,\n",
        "    set_type='val',\n",
        "    transform=transforms\n",
        ")\n",
        "\n",
        "test_dataset = WikiArtDataset(\n",
        "    h5_path=h5_path,\n",
        "    csv_path=csv_path,\n",
        "    set_type='test',\n",
        "    transform=transforms\n",
        ")"
      ]
    },
    {
      "cell_type": "code",
      "execution_count": null,
      "metadata": {
        "id": "KNxDC920qYoq"
      },
      "outputs": [],
      "source": [
        "train_dataloader = DataLoader(train_dataset, batch_size=128, shuffle=True, num_workers=2)\n",
        "valid_dataloader = DataLoader(valid_dataset, batch_size=128, shuffle=False, num_workers=2)\n",
        "test_dataloader = DataLoader(test_dataset, batch_size=128, shuffle=False, num_workers=2)"
      ]
    },
    {
      "cell_type": "markdown",
      "metadata": {
        "id": "y-1F899iRTW4"
      },
      "source": [
        "## Ekstrakcja cech"
      ]
    },
    {
      "cell_type": "markdown",
      "metadata": {
        "id": "q2t8pWE0Ldft"
      },
      "source": [
        "### Inicjalizacja modelu Ekstraktora Cech"
      ]
    },
    {
      "cell_type": "code",
      "execution_count": null,
      "metadata": {
        "id": "F4wj18WykEc9"
      },
      "outputs": [],
      "source": [
        "model = UNetLightning()"
      ]
    },
    {
      "cell_type": "code",
      "execution_count": null,
      "metadata": {
        "colab": {
          "base_uri": "https://localhost:8080/"
        },
        "id": "OCIofs4xkEc9",
        "outputId": "ea5a14a0-83dc-4862-f4b9-ce2d96b77b1a"
      },
      "outputs": [
        {
          "output_type": "stream",
          "name": "stderr",
          "text": [
            "INFO:pytorch_lightning.utilities.rank_zero:GPU available: True (cuda), used: True\n",
            "INFO:pytorch_lightning.utilities.rank_zero:TPU available: False, using: 0 TPU cores\n",
            "INFO:pytorch_lightning.utilities.rank_zero:HPU available: False, using: 0 HPUs\n"
          ]
        },
        {
          "output_type": "stream",
          "name": "stdout",
          "text": [
            "============================================================================================================================================\n",
            "Layer (type:depth-idx)                   Input Shape               Output Shape              Param #                   Kernel Shape\n",
            "============================================================================================================================================\n",
            "UNet                                     [1, 3, 224, 224]          [1, 3, 224, 224]          --                        --\n",
            "├─Sequential: 1-1                        [1, 3, 224, 224]          [1, 16, 224, 224]         --                        --\n",
            "│    └─Conv2d: 2-1                       [1, 3, 224, 224]          [1, 16, 224, 224]         448                       [3, 3]\n",
            "│    └─ReLU: 2-2                         [1, 16, 224, 224]         [1, 16, 224, 224]         --                        --\n",
            "│    └─BatchNorm2d: 2-3                  [1, 16, 224, 224]         [1, 16, 224, 224]         32                        --\n",
            "│    └─Conv2d: 2-4                       [1, 16, 224, 224]         [1, 16, 224, 224]         2,320                     [3, 3]\n",
            "│    └─ReLU: 2-5                         [1, 16, 224, 224]         [1, 16, 224, 224]         --                        --\n",
            "│    └─BatchNorm2d: 2-6                  [1, 16, 224, 224]         [1, 16, 224, 224]         32                        --\n",
            "├─Sequential: 1-2                        [1, 16, 224, 224]         [1, 32, 112, 112]         --                        --\n",
            "│    └─MaxPool2d: 2-7                    [1, 16, 224, 224]         [1, 16, 112, 112]         --                        2\n",
            "│    └─Conv2d: 2-8                       [1, 16, 112, 112]         [1, 32, 112, 112]         4,640                     [3, 3]\n",
            "│    └─ReLU: 2-9                         [1, 32, 112, 112]         [1, 32, 112, 112]         --                        --\n",
            "│    └─BatchNorm2d: 2-10                 [1, 32, 112, 112]         [1, 32, 112, 112]         64                        --\n",
            "│    └─Conv2d: 2-11                      [1, 32, 112, 112]         [1, 32, 112, 112]         9,248                     [3, 3]\n",
            "│    └─ReLU: 2-12                        [1, 32, 112, 112]         [1, 32, 112, 112]         --                        --\n",
            "│    └─BatchNorm2d: 2-13                 [1, 32, 112, 112]         [1, 32, 112, 112]         64                        --\n",
            "├─Sequential: 1-3                        [1, 32, 112, 112]         [1, 64, 56, 56]           --                        --\n",
            "│    └─MaxPool2d: 2-14                   [1, 32, 112, 112]         [1, 32, 56, 56]           --                        2\n",
            "│    └─Conv2d: 2-15                      [1, 32, 56, 56]           [1, 64, 56, 56]           18,496                    [3, 3]\n",
            "│    └─ReLU: 2-16                        [1, 64, 56, 56]           [1, 64, 56, 56]           --                        --\n",
            "│    └─BatchNorm2d: 2-17                 [1, 64, 56, 56]           [1, 64, 56, 56]           128                       --\n",
            "│    └─Conv2d: 2-18                      [1, 64, 56, 56]           [1, 64, 56, 56]           36,928                    [3, 3]\n",
            "│    └─ReLU: 2-19                        [1, 64, 56, 56]           [1, 64, 56, 56]           --                        --\n",
            "│    └─BatchNorm2d: 2-20                 [1, 64, 56, 56]           [1, 64, 56, 56]           128                       --\n",
            "├─Sequential: 1-4                        [1, 64, 56, 56]           [1, 128, 28, 28]          --                        --\n",
            "│    └─MaxPool2d: 2-21                   [1, 64, 56, 56]           [1, 64, 28, 28]           --                        2\n",
            "│    └─Conv2d: 2-22                      [1, 64, 28, 28]           [1, 128, 28, 28]          73,856                    [3, 3]\n",
            "│    └─ReLU: 2-23                        [1, 128, 28, 28]          [1, 128, 28, 28]          --                        --\n",
            "│    └─BatchNorm2d: 2-24                 [1, 128, 28, 28]          [1, 128, 28, 28]          256                       --\n",
            "│    └─Conv2d: 2-25                      [1, 128, 28, 28]          [1, 128, 28, 28]          147,584                   [3, 3]\n",
            "│    └─ReLU: 2-26                        [1, 128, 28, 28]          [1, 128, 28, 28]          --                        --\n",
            "│    └─BatchNorm2d: 2-27                 [1, 128, 28, 28]          [1, 128, 28, 28]          256                       --\n",
            "├─Sequential: 1-5                        [1, 128, 28, 28]          [1, 256, 14, 14]          --                        --\n",
            "│    └─MaxPool2d: 2-28                   [1, 128, 28, 28]          [1, 128, 14, 14]          --                        2\n",
            "│    └─Conv2d: 2-29                      [1, 128, 14, 14]          [1, 256, 14, 14]          295,168                   [3, 3]\n",
            "│    └─ReLU: 2-30                        [1, 256, 14, 14]          [1, 256, 14, 14]          --                        --\n",
            "│    └─BatchNorm2d: 2-31                 [1, 256, 14, 14]          [1, 256, 14, 14]          512                       --\n",
            "│    └─Conv2d: 2-32                      [1, 256, 14, 14]          [1, 256, 14, 14]          590,080                   [3, 3]\n",
            "│    └─ReLU: 2-33                        [1, 256, 14, 14]          [1, 256, 14, 14]          --                        --\n",
            "│    └─BatchNorm2d: 2-34                 [1, 256, 14, 14]          [1, 256, 14, 14]          512                       --\n",
            "├─Sequential: 1-6                        [1, 256, 14, 14]          [1, 128, 28, 28]          --                        --\n",
            "│    └─ConvTranspose2d: 2-35             [1, 256, 14, 14]          [1, 128, 28, 28]          131,200                   [2, 2]\n",
            "│    └─ReLU: 2-36                        [1, 128, 28, 28]          [1, 128, 28, 28]          --                        --\n",
            "│    └─BatchNorm2d: 2-37                 [1, 128, 28, 28]          [1, 128, 28, 28]          256                       --\n",
            "├─Sequential: 1-7                        [1, 128, 28, 28]          [1, 64, 56, 56]           --                        --\n",
            "│    └─ConvTranspose2d: 2-38             [1, 128, 28, 28]          [1, 64, 56, 56]           32,832                    [2, 2]\n",
            "│    └─ReLU: 2-39                        [1, 64, 56, 56]           [1, 64, 56, 56]           --                        --\n",
            "│    └─BatchNorm2d: 2-40                 [1, 64, 56, 56]           [1, 64, 56, 56]           128                       --\n",
            "├─Sequential: 1-8                        [1, 64, 56, 56]           [1, 32, 112, 112]         --                        --\n",
            "│    └─ConvTranspose2d: 2-41             [1, 64, 56, 56]           [1, 32, 112, 112]         8,224                     [2, 2]\n",
            "│    └─ReLU: 2-42                        [1, 32, 112, 112]         [1, 32, 112, 112]         --                        --\n",
            "│    └─BatchNorm2d: 2-43                 [1, 32, 112, 112]         [1, 32, 112, 112]         64                        --\n",
            "├─Sequential: 1-9                        [1, 32, 112, 112]         [1, 16, 224, 224]         --                        --\n",
            "│    └─ConvTranspose2d: 2-44             [1, 32, 112, 112]         [1, 16, 224, 224]         2,064                     [2, 2]\n",
            "│    └─ReLU: 2-45                        [1, 16, 224, 224]         [1, 16, 224, 224]         --                        --\n",
            "│    └─BatchNorm2d: 2-46                 [1, 16, 224, 224]         [1, 16, 224, 224]         32                        --\n",
            "├─Conv2d: 1-10                           [1, 16, 224, 224]         [1, 3, 224, 224]          51                        [1, 1]\n",
            "============================================================================================================================================\n",
            "Total params: 1,355,603\n",
            "Trainable params: 1,355,603\n",
            "Non-trainable params: 0\n",
            "Total mult-adds (G): 1.25\n",
            "============================================================================================================================================\n",
            "Input size (MB): 0.60\n",
            "Forward/backward pass size (MB): 75.06\n",
            "Params size (MB): 5.42\n",
            "Estimated Total Size (MB): 81.09\n",
            "============================================================================================================================================\n"
          ]
        }
      ],
      "source": [
        "feature_extractor = FeatureExtractor(model, device, comet_logger, save_dir)\n",
        "\n",
        "print(feature_extractor.summary())"
      ]
    },
    {
      "cell_type": "markdown",
      "metadata": {
        "id": "9lFW8r9_LjFt"
      },
      "source": [
        "### Trenowanie modelu Ekstraktora Cech"
      ]
    },
    {
      "cell_type": "code",
      "execution_count": null,
      "metadata": {
        "colab": {
          "base_uri": "https://localhost:8080/",
          "height": 986,
          "referenced_widgets": [
            "10d6dc4411c5417ba0694c95f59928e8",
            "3667f587df574abaa14af4b23a7c1c3d",
            "5f10c22070d04f32833339341615f2cb",
            "3566414d6904485abbb0d6fdeb6d21c1",
            "55f0460d21e54a29b666f6d033f3eb10",
            "e2cd45f6bde441d48a766343145b4483",
            "c4bf594202974b0588d9ac950b968c07",
            "186bed55ea7e4dd39e73d266dfb16ac5",
            "e337b4d2e3364ebb8b1fa7cb1bebf894",
            "3301c8e636f34d6b95a3db1a2555a798",
            "3c5ffb705e5a4dc992d67e9067998f74",
            "cc77b41e96454ac9bd5b96c8a3fe4227",
            "fd19810669d74d86889b929e8cd241dc",
            "e005960d2300481aa0024c2eaa90009c",
            "b045a4f6518946f99f5b7039080ea5cc",
            "d3c3ca16599a4ddfbdc77ba36ce2a7c3",
            "a2b781b5875d4649838a898981de33c7",
            "6c6341133ea34735af036e969cd14dcd",
            "e9034f6d706644f484882fac1deca98a",
            "246ae182941d4caf9fa44f548d2b3a3b",
            "9ff89ffc161f485e918410a95120ce4b",
            "6b89999f9796487f935bb5bc8505eedc",
            "7ca5d47d491147dca749e06caef6839b",
            "a927442eefc64b6fb50c3ba1aad54a79",
            "36f575ba9d3e42d991d332428cec6473",
            "f88af46410664f529ccf997d5a559b68",
            "39a387286a0d4659a2933acde8dc1bb3",
            "eb1bc5c083194317b23968a0dac186a5",
            "f7f019c91d9d48e8a3bd3f903425ab01",
            "4da9ce927a58450bbd915983ecb074b9",
            "83b7e07f89554e399c82e00babec4aef",
            "000fb3015f584242be1e50ce562871c4",
            "46aee9384a504a7da4e862f1baf8ae52"
          ]
        },
        "id": "xV82iFd4rRH9",
        "outputId": "c91d9f2c-23cb-4a53-80bc-70a64f83b951"
      },
      "outputs": [
        {
          "name": "stderr",
          "output_type": "stream",
          "text": [
            "\u001b[1;38;5;214mCOMET WARNING:\u001b[0m To get all data logged automatically, import comet_ml before the following modules: sklearn, torch.\n",
            "\u001b[1;38;5;214mCOMET WARNING:\u001b[0m As you are running in a Jupyter environment, you will need to call `experiment.end()` when finished to ensure all metrics and code are logged before exiting.\n",
            "\u001b[1;38;5;39mCOMET INFO:\u001b[0m Experiment is live on comet.com https://www.comet.com/wikiart-inpainting/unet-extractor/f20f38b3e6ca4e08bb2608263ec73adb\n",
            "\n",
            "\u001b[1;38;5;39mCOMET INFO:\u001b[0m Couldn't find a Git repository in '/content' nor in any parent directory. Set `COMET_GIT_DIRECTORY` if your Git Repository is elsewhere.\n",
            "/usr/local/lib/python3.10/dist-packages/pytorch_lightning/callbacks/model_checkpoint.py:654: Checkpoint directory /content/drive/MyDrive/models exists and is not empty.\n",
            "INFO:pytorch_lightning.accelerators.cuda:LOCAL_RANK: 0 - CUDA_VISIBLE_DEVICES: [0]\n",
            "/usr/local/lib/python3.10/dist-packages/pytorch_lightning/core/optimizer.py:317: The lr scheduler dict contains the key(s) ['monitor'], but the keys will be ignored. You need to call `lr_scheduler.step()` manually in manual optimization.\n",
            "INFO:pytorch_lightning.callbacks.model_summary:\n",
            "  | Name      | Type    | Params | Mode \n",
            "----------------------------------------------\n",
            "0 | model     | UNet    | 1.4 M  | train\n",
            "1 | criterion | MSELoss | 0      | train\n",
            "----------------------------------------------\n",
            "1.4 M     Trainable params\n",
            "0         Non-trainable params\n",
            "1.4 M     Total params\n",
            "5.422     Total estimated model params size (MB)\n",
            "58        Modules in train mode\n",
            "0         Modules in eval mode\n"
          ]
        },
        {
          "data": {
            "application/vnd.jupyter.widget-view+json": {
              "model_id": "10d6dc4411c5417ba0694c95f59928e8",
              "version_major": 2,
              "version_minor": 0
            },
            "text/plain": [
              "Sanity Checking: |          | 0/? [00:00<?, ?it/s]"
            ]
          },
          "metadata": {},
          "output_type": "display_data"
        },
        {
          "name": "stdout",
          "output_type": "stream",
          "text": [
            "Weights saved and logged to CometML: best_weights_epoch_0_val_loss_19216.4668.pth\n"
          ]
        },
        {
          "data": {
            "application/vnd.jupyter.widget-view+json": {
              "model_id": "cc77b41e96454ac9bd5b96c8a3fe4227",
              "version_major": 2,
              "version_minor": 0
            },
            "text/plain": [
              "Training: |          | 0/? [00:00<?, ?it/s]"
            ]
          },
          "metadata": {},
          "output_type": "display_data"
        },
        {
          "data": {
            "application/vnd.jupyter.widget-view+json": {
              "model_id": "7ca5d47d491147dca749e06caef6839b",
              "version_major": 2,
              "version_minor": 0
            },
            "text/plain": [
              "Validation: |          | 0/? [00:00<?, ?it/s]"
            ]
          },
          "metadata": {},
          "output_type": "display_data"
        },
        {
          "name": "stderr",
          "output_type": "stream",
          "text": [
            "INFO:pytorch_lightning.callbacks.early_stopping:Metric val_loss improved. New best score: 18360.021\n"
          ]
        },
        {
          "name": "stdout",
          "output_type": "stream",
          "text": [
            "Weights saved and logged to CometML: best_weights_epoch_0_val_loss_18360.0215.pth\n"
          ]
        },
        {
          "name": "stderr",
          "output_type": "stream",
          "text": [
            "INFO:pytorch_lightning.utilities.rank_zero:`Trainer.fit` stopped: `max_epochs=1` reached.\n",
            "\u001b[1;38;5;39mCOMET INFO:\u001b[0m ---------------------------------------------------------------------------------------\n",
            "\u001b[1;38;5;39mCOMET INFO:\u001b[0m Comet.ml Experiment Summary\n",
            "\u001b[1;38;5;39mCOMET INFO:\u001b[0m ---------------------------------------------------------------------------------------\n",
            "\u001b[1;38;5;39mCOMET INFO:\u001b[0m   Data:\n",
            "\u001b[1;38;5;39mCOMET INFO:\u001b[0m     display_summary_level : 1\n",
            "\u001b[1;38;5;39mCOMET INFO:\u001b[0m     name                  : moccasin_motel_562\n",
            "\u001b[1;38;5;39mCOMET INFO:\u001b[0m     url                   : https://www.comet.com/wikiart-inpainting/unet-extractor/f20f38b3e6ca4e08bb2608263ec73adb\n",
            "\u001b[1;38;5;39mCOMET INFO:\u001b[0m   Metrics [count] (min, max):\n",
            "\u001b[1;38;5;39mCOMET INFO:\u001b[0m     train_loss_epoch     : 18587.52734375\n",
            "\u001b[1;38;5;39mCOMET INFO:\u001b[0m     train_loss_step [12] : (16800.6015625, 21387.3984375)\n",
            "\u001b[1;38;5;39mCOMET INFO:\u001b[0m     val_loss_epoch       : 18360.021484375\n",
            "\u001b[1;38;5;39mCOMET INFO:\u001b[0m     val_loss_step [81]   : (16068.2734375, 20668.068359375)\n",
            "\u001b[1;38;5;39mCOMET INFO:\u001b[0m   Others:\n",
            "\u001b[1;38;5;39mCOMET INFO:\u001b[0m     Created from : pytorch-lightning\n",
            "\u001b[1;38;5;39mCOMET INFO:\u001b[0m     notebook_url : https://colab.research.google.com/notebook#fileId=1tcVaYyUK97QxuUzrmVn01y71nTm02rdg\n",
            "\u001b[1;38;5;39mCOMET INFO:\u001b[0m   Uploads:\n",
            "\u001b[1;38;5;39mCOMET INFO:\u001b[0m     environment details : 1\n",
            "\u001b[1;38;5;39mCOMET INFO:\u001b[0m     filename            : 1\n",
            "\u001b[1;38;5;39mCOMET INFO:\u001b[0m     images              : 6\n",
            "\u001b[1;38;5;39mCOMET INFO:\u001b[0m     installed packages  : 1\n",
            "\u001b[1;38;5;39mCOMET INFO:\u001b[0m     model graph         : 1\n",
            "\u001b[1;38;5;39mCOMET INFO:\u001b[0m     model-element       : 2 (10.43 MB)\n",
            "\u001b[1;38;5;39mCOMET INFO:\u001b[0m     notebook            : 2\n",
            "\u001b[1;38;5;39mCOMET INFO:\u001b[0m     os packages         : 1\n",
            "\u001b[1;38;5;39mCOMET INFO:\u001b[0m     source_code         : 1\n",
            "\u001b[1;38;5;39mCOMET INFO:\u001b[0m \n",
            "\u001b[1;38;5;214mCOMET WARNING:\u001b[0m To get all data logged automatically, import comet_ml before the following modules: sklearn, torch.\n"
          ]
        }
      ],
      "source": [
        "feature_extractor.train(train_dataloader, valid_dataloader)"
      ]
    },
    {
      "cell_type": "markdown",
      "metadata": {
        "id": "IEHvGP0RLsDi"
      },
      "source": [
        "### Wczytanie najlepszego modelu Ekstraktora Cech"
      ]
    },
    {
      "cell_type": "code",
      "execution_count": null,
      "metadata": {
        "colab": {
          "base_uri": "https://localhost:8080/"
        },
        "id": "Vt56ChGukEc9",
        "outputId": "e660a4c7-178f-460f-e6ab-e19bf471f550"
      },
      "outputs": [
        {
          "output_type": "stream",
          "name": "stderr",
          "text": [
            "/content/drive/My Drive/FeatureExtractor/FeatureExtractor.py:221: FutureWarning: You are using `torch.load` with `weights_only=False` (the current default value), which uses the default pickle module implicitly. It is possible to construct malicious pickle data which will execute arbitrary code during unpickling (See https://github.com/pytorch/pytorch/blob/main/SECURITY.md#untrusted-models for more details). In a future release, the default value for `weights_only` will be flipped to `True`. This limits the functions that could be executed during unpickling. Arbitrary objects will no longer be allowed to be loaded via this mode unless they are explicitly allowlisted by the user via `torch.serialization.add_safe_globals`. We recommend you start setting `weights_only=True` for any use case where you don't have full control of the loaded file. Please open an issue on GitHub for any issues related to this experimental feature.\n",
            "  state_dict = torch.load(model_path, map_location=self.device)\n",
            "INFO:pytorch_lightning.utilities.rank_zero:GPU available: True (cuda), used: True\n",
            "INFO:pytorch_lightning.utilities.rank_zero:TPU available: False, using: 0 TPU cores\n",
            "INFO:pytorch_lightning.utilities.rank_zero:HPU available: False, using: 0 HPUs\n"
          ]
        },
        {
          "output_type": "stream",
          "name": "stdout",
          "text": [
            "Model załadowany z pliku .pth: /content/drive/MyDrive/Models/best_model.pth\n",
            "Pomyślnie załadowano model. Trainer ustawiony na 1 epok.\n"
          ]
        }
      ],
      "source": [
        "#feature_extractor.load_from_checkpoint()\n",
        "\n",
        "best_model_path = '/content/drive/MyDrive/Models/best_model.pth'\n",
        "feature_extractor.load_from_checkpoint(best_model_path)"
      ]
    },
    {
      "cell_type": "code",
      "execution_count": null,
      "metadata": {
        "colab": {
          "base_uri": "https://localhost:8080/"
        },
        "id": "VnNOeGdTkEc9",
        "outputId": "e7d9b29b-8466-441b-97f5-5291e1a2ac45"
      },
      "outputs": [
        {
          "output_type": "execute_result",
          "data": {
            "text/plain": [
              "UNetLightning(\n",
              "  (model): UNet(\n",
              "    (encoder1): Sequential(\n",
              "      (0): Conv2d(3, 16, kernel_size=(3, 3), stride=(1, 1), padding=(1, 1))\n",
              "      (1): ReLU(inplace=True)\n",
              "      (2): BatchNorm2d(16, eps=1e-05, momentum=0.1, affine=True, track_running_stats=True)\n",
              "      (3): Conv2d(16, 16, kernel_size=(3, 3), stride=(1, 1), padding=(1, 1))\n",
              "      (4): ReLU(inplace=True)\n",
              "      (5): BatchNorm2d(16, eps=1e-05, momentum=0.1, affine=True, track_running_stats=True)\n",
              "    )\n",
              "    (encoder2): Sequential(\n",
              "      (0): MaxPool2d(kernel_size=2, stride=2, padding=0, dilation=1, ceil_mode=False)\n",
              "      (1): Conv2d(16, 32, kernel_size=(3, 3), stride=(1, 1), padding=(1, 1))\n",
              "      (2): ReLU(inplace=True)\n",
              "      (3): BatchNorm2d(32, eps=1e-05, momentum=0.1, affine=True, track_running_stats=True)\n",
              "      (4): Conv2d(32, 32, kernel_size=(3, 3), stride=(1, 1), padding=(1, 1))\n",
              "      (5): ReLU(inplace=True)\n",
              "      (6): BatchNorm2d(32, eps=1e-05, momentum=0.1, affine=True, track_running_stats=True)\n",
              "    )\n",
              "    (encoder3): Sequential(\n",
              "      (0): MaxPool2d(kernel_size=2, stride=2, padding=0, dilation=1, ceil_mode=False)\n",
              "      (1): Conv2d(32, 64, kernel_size=(3, 3), stride=(1, 1), padding=(1, 1))\n",
              "      (2): ReLU(inplace=True)\n",
              "      (3): BatchNorm2d(64, eps=1e-05, momentum=0.1, affine=True, track_running_stats=True)\n",
              "      (4): Conv2d(64, 64, kernel_size=(3, 3), stride=(1, 1), padding=(1, 1))\n",
              "      (5): ReLU(inplace=True)\n",
              "      (6): BatchNorm2d(64, eps=1e-05, momentum=0.1, affine=True, track_running_stats=True)\n",
              "    )\n",
              "    (encoder4): Sequential(\n",
              "      (0): MaxPool2d(kernel_size=2, stride=2, padding=0, dilation=1, ceil_mode=False)\n",
              "      (1): Conv2d(64, 128, kernel_size=(3, 3), stride=(1, 1), padding=(1, 1))\n",
              "      (2): ReLU(inplace=True)\n",
              "      (3): BatchNorm2d(128, eps=1e-05, momentum=0.1, affine=True, track_running_stats=True)\n",
              "      (4): Conv2d(128, 128, kernel_size=(3, 3), stride=(1, 1), padding=(1, 1))\n",
              "      (5): ReLU(inplace=True)\n",
              "      (6): BatchNorm2d(128, eps=1e-05, momentum=0.1, affine=True, track_running_stats=True)\n",
              "    )\n",
              "    (bottleneck): Sequential(\n",
              "      (0): MaxPool2d(kernel_size=2, stride=2, padding=0, dilation=1, ceil_mode=False)\n",
              "      (1): Conv2d(128, 256, kernel_size=(3, 3), stride=(1, 1), padding=(1, 1))\n",
              "      (2): ReLU(inplace=True)\n",
              "      (3): BatchNorm2d(256, eps=1e-05, momentum=0.1, affine=True, track_running_stats=True)\n",
              "      (4): Conv2d(256, 256, kernel_size=(3, 3), stride=(1, 1), padding=(1, 1))\n",
              "      (5): ReLU(inplace=True)\n",
              "      (6): BatchNorm2d(256, eps=1e-05, momentum=0.1, affine=True, track_running_stats=True)\n",
              "    )\n",
              "    (decoder4): Sequential(\n",
              "      (0): ConvTranspose2d(256, 128, kernel_size=(2, 2), stride=(2, 2))\n",
              "      (1): ReLU(inplace=True)\n",
              "      (2): BatchNorm2d(128, eps=1e-05, momentum=0.1, affine=True, track_running_stats=True)\n",
              "    )\n",
              "    (decoder3): Sequential(\n",
              "      (0): ConvTranspose2d(128, 64, kernel_size=(2, 2), stride=(2, 2))\n",
              "      (1): ReLU(inplace=True)\n",
              "      (2): BatchNorm2d(64, eps=1e-05, momentum=0.1, affine=True, track_running_stats=True)\n",
              "    )\n",
              "    (decoder2): Sequential(\n",
              "      (0): ConvTranspose2d(64, 32, kernel_size=(2, 2), stride=(2, 2))\n",
              "      (1): ReLU(inplace=True)\n",
              "      (2): BatchNorm2d(32, eps=1e-05, momentum=0.1, affine=True, track_running_stats=True)\n",
              "    )\n",
              "    (decoder1): Sequential(\n",
              "      (0): ConvTranspose2d(32, 16, kernel_size=(2, 2), stride=(2, 2))\n",
              "      (1): ReLU(inplace=True)\n",
              "      (2): BatchNorm2d(16, eps=1e-05, momentum=0.1, affine=True, track_running_stats=True)\n",
              "    )\n",
              "    (final_conv): Conv2d(16, 3, kernel_size=(1, 1), stride=(1, 1))\n",
              "  )\n",
              "  (criterion): MSELoss()\n",
              ")"
            ]
          },
          "metadata": {},
          "execution_count": 13
        }
      ],
      "source": [
        "feature_extractor.evaluate()"
      ]
    },
    {
      "cell_type": "markdown",
      "metadata": {
        "id": "WWrfptJRLxM8"
      },
      "source": [
        "### Testowanie modelu Ekstraktora Cech"
      ]
    },
    {
      "cell_type": "code",
      "execution_count": null,
      "metadata": {
        "colab": {
          "base_uri": "https://localhost:8080/",
          "height": 692,
          "referenced_widgets": [
            "4ae70f710bde430d82f8577a9a5b2b87",
            "4511a4a749ef4de0a19d166e6e4ee53f",
            "159bc688191e4a3eaf235a7b0b98e8e9",
            "ce90ce4caf1c43d496b9a3b0182339a3",
            "f00e597862824480b2f51acdd1193b68",
            "e49856c7b2d240f7b30b48fd440fede9",
            "23a1aee0fedc4a4d8f879570f4b8d806",
            "6d88861f11ee4d858ed4a4c0b70218ec",
            "190ec5a9e71a4daabc338c8dbcb702ce",
            "07562ebc6a314123863814bb496e3fb8",
            "63eb27c952904ccf8ef9a1b843fe615e"
          ]
        },
        "id": "zx6ObYxhkEc9",
        "outputId": "67e80802-2b5f-42a0-8fd5-724d4e4d4c06"
      },
      "outputs": [
        {
          "name": "stderr",
          "output_type": "stream",
          "text": [
            "\u001b[1;38;5;214mCOMET WARNING:\u001b[0m To get all data logged automatically, import comet_ml before the following modules: torch, sklearn.\n",
            "\u001b[1;38;5;214mCOMET WARNING:\u001b[0m As you are running in a Jupyter environment, you will need to call `experiment.end()` when finished to ensure all metrics and code are logged before exiting.\n",
            "\u001b[1;38;5;39mCOMET INFO:\u001b[0m Experiment is live on comet.com https://www.comet.com/wikiart-inpainting/unet-extractor/d2240d9debf645838d8c8d68c634d15d\n",
            "\n",
            "INFO:pytorch_lightning.accelerators.cuda:LOCAL_RANK: 0 - CUDA_VISIBLE_DEVICES: [0]\n",
            "\u001b[1;38;5;39mCOMET INFO:\u001b[0m Couldn't find a Git repository in '/content' nor in any parent directory. Set `COMET_GIT_DIRECTORY` if your Git Repository is elsewhere.\n"
          ]
        },
        {
          "data": {
            "application/vnd.jupyter.widget-view+json": {
              "model_id": "4ae70f710bde430d82f8577a9a5b2b87",
              "version_major": 2,
              "version_minor": 0
            },
            "text/plain": [
              "Testing: |          | 0/? [00:00<?, ?it/s]"
            ]
          },
          "metadata": {},
          "output_type": "display_data"
        },
        {
          "data": {
            "text/html": [
              "<pre style=\"white-space:pre;overflow-x:auto;line-height:normal;font-family:Menlo,'DejaVu Sans Mono',consolas,'Courier New',monospace\">┏━━━━━━━━━━━━━━━━━━━━━━━━━━━┳━━━━━━━━━━━━━━━━━━━━━━━━━━━┓\n",
              "┃<span style=\"font-weight: bold\">        Test metric        </span>┃<span style=\"font-weight: bold\">       DataLoader 0        </span>┃\n",
              "┡━━━━━━━━━━━━━━━━━━━━━━━━━━━╇━━━━━━━━━━━━━━━━━━━━━━━━━━━┩\n",
              "│<span style=\"color: #008080; text-decoration-color: #008080\">      test_loss_epoch      </span>│<span style=\"color: #800080; text-decoration-color: #800080\">    13.361559867858887     </span>│\n",
              "└───────────────────────────┴───────────────────────────┘\n",
              "</pre>\n"
            ],
            "text/plain": [
              "┏━━━━━━━━━━━━━━━━━━━━━━━━━━━┳━━━━━━━━━━━━━━━━━━━━━━━━━━━┓\n",
              "┃\u001b[1m \u001b[0m\u001b[1m       Test metric       \u001b[0m\u001b[1m \u001b[0m┃\u001b[1m \u001b[0m\u001b[1m      DataLoader 0       \u001b[0m\u001b[1m \u001b[0m┃\n",
              "┡━━━━━━━━━━━━━━━━━━━━━━━━━━━╇━━━━━━━━━━━━━━━━━━━━━━━━━━━┩\n",
              "│\u001b[36m \u001b[0m\u001b[36m     test_loss_epoch     \u001b[0m\u001b[36m \u001b[0m│\u001b[35m \u001b[0m\u001b[35m   13.361559867858887    \u001b[0m\u001b[35m \u001b[0m│\n",
              "└───────────────────────────┴───────────────────────────┘\n"
            ]
          },
          "metadata": {},
          "output_type": "display_data"
        },
        {
          "name": "stderr",
          "output_type": "stream",
          "text": [
            "\u001b[1;38;5;39mCOMET INFO:\u001b[0m ---------------------------------------------------------------------------------------\n",
            "\u001b[1;38;5;39mCOMET INFO:\u001b[0m Comet.ml Experiment Summary\n",
            "\u001b[1;38;5;39mCOMET INFO:\u001b[0m ---------------------------------------------------------------------------------------\n",
            "\u001b[1;38;5;39mCOMET INFO:\u001b[0m   Data:\n",
            "\u001b[1;38;5;39mCOMET INFO:\u001b[0m     display_summary_level : 1\n",
            "\u001b[1;38;5;39mCOMET INFO:\u001b[0m     name                  : sure_crumble_4241\n",
            "\u001b[1;38;5;39mCOMET INFO:\u001b[0m     url                   : https://www.comet.com/wikiart-inpainting/unet-extractor/d2240d9debf645838d8c8d68c634d15d\n",
            "\u001b[1;38;5;39mCOMET INFO:\u001b[0m   Metrics [count] (min, max):\n",
            "\u001b[1;38;5;39mCOMET INFO:\u001b[0m     test_loss_epoch     : 13.361559867858887\n",
            "\u001b[1;38;5;39mCOMET INFO:\u001b[0m     test_loss_step [81] : (4.040981292724609, 656.4223022460938)\n",
            "\u001b[1;38;5;39mCOMET INFO:\u001b[0m   Others:\n",
            "\u001b[1;38;5;39mCOMET INFO:\u001b[0m     Created from : pytorch-lightning\n",
            "\u001b[1;38;5;39mCOMET INFO:\u001b[0m     notebook_url : https://colab.research.google.com/notebook#fileId=1tcVaYyUK97QxuUzrmVn01y71nTm02rdg\n",
            "\u001b[1;38;5;39mCOMET INFO:\u001b[0m   Uploads:\n",
            "\u001b[1;38;5;39mCOMET INFO:\u001b[0m     environment details : 1\n",
            "\u001b[1;38;5;39mCOMET INFO:\u001b[0m     filename            : 1\n",
            "\u001b[1;38;5;39mCOMET INFO:\u001b[0m     images              : 1\n",
            "\u001b[1;38;5;39mCOMET INFO:\u001b[0m     installed packages  : 1\n",
            "\u001b[1;38;5;39mCOMET INFO:\u001b[0m     model graph         : 1\n",
            "\u001b[1;38;5;39mCOMET INFO:\u001b[0m     notebook            : 2\n",
            "\u001b[1;38;5;39mCOMET INFO:\u001b[0m     os packages         : 1\n",
            "\u001b[1;38;5;39mCOMET INFO:\u001b[0m     source_code         : 1\n",
            "\u001b[1;38;5;39mCOMET INFO:\u001b[0m \n",
            "\u001b[1;38;5;214mCOMET WARNING:\u001b[0m To get all data logged automatically, import comet_ml before the following modules: torch, sklearn.\n"
          ]
        },
        {
          "data": {
            "text/plain": [
              "[{'test_loss_epoch': 13.361559867858887}]"
            ]
          },
          "execution_count": 14,
          "metadata": {},
          "output_type": "execute_result"
        }
      ],
      "source": [
        "feature_extractor.test(test_dataloader)"
      ]
    },
    {
      "cell_type": "markdown",
      "metadata": {
        "id": "K4CLbZSTL6YI"
      },
      "source": [
        "### Ekstrakcja cech - testowanie PCA dla różnych wartości redukcji"
      ]
    },
    {
      "cell_type": "code",
      "execution_count": null,
      "metadata": {
        "id": "klUo7M_P1eP5"
      },
      "outputs": [],
      "source": [
        "train_dataloader = DataLoader(train_dataset, batch_size=256, shuffle=False, num_workers=2)"
      ]
    },
    {
      "cell_type": "code",
      "execution_count": null,
      "metadata": {
        "id": "HweIjRQ2GrO1"
      },
      "outputs": [],
      "source": [
        "n_components_list = list(range(5, 125, 1))"
      ]
    },
    {
      "cell_type": "code",
      "execution_count": null,
      "metadata": {
        "colab": {
          "base_uri": "https://localhost:8080/"
        },
        "id": "5SnAYb4T1U0t",
        "outputId": "e32d94c8-27b4-4ae7-92a8-0240a20e4b7c"
      },
      "outputs": [
        {
          "output_type": "stream",
          "name": "stderr",
          "text": [
            "\rProcessing batches:   0%|          | 0/120 [00:00<?, ?it/s]\u001b[1;38;5;214mCOMET WARNING:\u001b[0m To get all data logged automatically, import comet_ml before the following modules: torch, sklearn.\n",
            "\u001b[1;38;5;214mCOMET WARNING:\u001b[0m As you are running in a Jupyter environment, you will need to call `experiment.end()` when finished to ensure all metrics and code are logged before exiting.\n",
            "\u001b[1;38;5;39mCOMET INFO:\u001b[0m Experiment is live on comet.com https://www.comet.com/wikiart-inpainting/feature-extraction/d2fb4adbd0de4c19aee5ca13b604e16b\n",
            "\n",
            "\u001b[1;38;5;39mCOMET INFO:\u001b[0m Couldn't find a Git repository in '/content' nor in any parent directory. Set `COMET_GIT_DIRECTORY` if your Git Repository is elsewhere.\n",
            "Processing batches: 100%|██████████| 120/120 [07:55<00:00,  3.96s/it]\n"
          ]
        }
      ],
      "source": [
        "features_path = feature_extractor.test_pca_components(train_dataloader, n_components_list)"
      ]
    },
    {
      "cell_type": "markdown",
      "metadata": {
        "id": "3tcmEG22MC4S"
      },
      "source": [
        "### Ekstrakcja cech zbioru treningowego\n",
        "\n",
        "**Ekstrakcja cech z zastosowaniem najlepszej wartości redukcji cech dla PCA**\n",
        "\n",
        "**Normalizacja cech przy pomocy MinMaxScaler**"
      ]
    },
    {
      "cell_type": "code",
      "execution_count": null,
      "metadata": {
        "id": "EXrN5DIgHUUx"
      },
      "outputs": [],
      "source": [
        "best_n_components = 28\n",
        "#pca_model_path = '/content/drive/MyDrive/Models/pca_model.joblib'\n",
        "file_name = 'train'"
      ]
    },
    {
      "cell_type": "code",
      "execution_count": null,
      "metadata": {
        "colab": {
          "base_uri": "https://localhost:8080/"
        },
        "id": "JuhpER5kkEc9",
        "outputId": "29faeb7f-ff5e-4147-f4b4-50473bf09833"
      },
      "outputs": [
        {
          "output_type": "stream",
          "name": "stderr",
          "text": [
            "\rProcessing batches:   0%|          | 0/323 [00:00<?, ?it/s]"
          ]
        },
        {
          "output_type": "stream",
          "name": "stdout",
          "text": [
            "PCA zostanie dopasowane\n"
          ]
        },
        {
          "output_type": "stream",
          "name": "stderr",
          "text": [
            "\u001b[1;38;5;214mCOMET WARNING:\u001b[0m To get all data logged automatically, import comet_ml before the following modules: torch, sklearn.\n",
            "\u001b[1;38;5;214mCOMET WARNING:\u001b[0m As you are running in a Jupyter environment, you will need to call `experiment.end()` when finished to ensure all metrics and code are logged before exiting.\n"
          ]
        },
        {
          "output_type": "stream",
          "name": "stdout",
          "text": [
            "Model PCA zapisany w: /content/drive/MyDrive/Models/pca_model.joblib\n",
            "\n",
            " Explained variance (wartości bezwzględne): \n",
            " [15550.029    6020.265    3942.063    2381.2437   1868.5211   1073.9961\n",
            "   973.5596    855.1512    692.92535   512.19226   501.2897    445.302\n",
            "   400.75095   356.98172   333.2862    266.98706   250.60538   232.2069\n",
            "   220.31955   197.27808   172.37302   166.1995    155.08774   149.93387\n",
            "   137.71613   120.90774   112.66402   108.70367]\n",
            "\n",
            " Explained variance ratio (procentowo): \n",
            " [0.3814113  0.14766514 0.09669098 0.05840718 0.04583111 0.02634299\n",
            " 0.02387948 0.02097516 0.01699608 0.01256306 0.01229564 0.01092237\n",
            " 0.00982962 0.00875605 0.00817485 0.00654866 0.00614685 0.00569557\n",
            " 0.005404   0.00483884 0.00422797 0.00407654 0.00380399 0.00367758\n",
            " 0.0033779  0.00296563 0.00276342 0.00266629]\n"
          ]
        },
        {
          "output_type": "stream",
          "name": "stderr",
          "text": [
            "\u001b[1;38;5;39mCOMET INFO:\u001b[0m Experiment is live on comet.com https://www.comet.com/wikiart-inpainting/feature-extraction/fe6076cb8b404314a1b4a7de3178d929\n",
            "\n",
            "\u001b[1;38;5;39mCOMET INFO:\u001b[0m Couldn't find a Git repository in '/content' nor in any parent directory. Set `COMET_GIT_DIRECTORY` if your Git Repository is elsewhere.\n",
            "Processing batches: 100%|██████████| 323/323 [02:59<00:00,  1.80it/s]\n"
          ]
        },
        {
          "output_type": "stream",
          "name": "stdout",
          "text": [
            "Scaler zostanie dopasowany i zapisany.\n",
            "Model scaler zapisany w: /content/drive/MyDrive/Models/scaler_model.joblib\n",
            "\n",
            " Cechy i indeksy zapisane w: /content/drive/MyDrive/Result/train_features_and_indices.npz\n"
          ]
        }
      ],
      "source": [
        "train_features_path = feature_extractor.multi_features_extract(train_dataloader, best_n_components, file_name)"
      ]
    },
    {
      "cell_type": "markdown",
      "metadata": {
        "id": "pcWahYN7O8Qb"
      },
      "source": [
        "### Ekstrakcja cech zbioru walidacyjnego\n",
        "\n",
        "**Załadowanie modelu PCA**\n",
        "\n",
        "**Załadowanie modelu MinMaxScaler**"
      ]
    },
    {
      "cell_type": "code",
      "execution_count": null,
      "metadata": {
        "id": "2umrv7xAN_7G"
      },
      "outputs": [],
      "source": [
        "valid_dataloader = DataLoader(valid_dataset, batch_size=256, shuffle=False, num_workers=2)"
      ]
    },
    {
      "cell_type": "code",
      "execution_count": null,
      "metadata": {
        "id": "LE2Kd_MjOAUm"
      },
      "outputs": [],
      "source": [
        "best_n_components = 28\n",
        "pca_model_path = '/content/drive/MyDrive/Models/pca_model.joblib'\n",
        "scaler_model_path = '/content/drive/MyDrive/Models/scaler_model.joblib'\n",
        "file_name = 'valid'"
      ]
    },
    {
      "cell_type": "code",
      "execution_count": null,
      "metadata": {
        "colab": {
          "base_uri": "https://localhost:8080/"
        },
        "id": "6fbr7mLdOF6Q",
        "outputId": "417c57bd-122c-4215-fd92-81517ff2bd52"
      },
      "outputs": [
        {
          "output_type": "stream",
          "name": "stdout",
          "text": [
            "Załadowano model PCA z: /content/drive/MyDrive/Models/pca_model.joblib\n",
            "Załadowano model scaler z: /content/drive/MyDrive/Models/scaler_model.joblib\n"
          ]
        },
        {
          "output_type": "stream",
          "name": "stderr",
          "text": [
            "\rProcessing batches:   0%|          | 0/41 [00:00<?, ?it/s]"
          ]
        },
        {
          "output_type": "stream",
          "name": "stdout",
          "text": [
            "PCA zostanie dopasowane\n",
            "\n",
            " Explained variance (wartości bezwzględne): \n",
            " [15550.029    6020.265    3942.063    2381.2437   1868.5211   1073.9961\n",
            "   973.5596    855.1512    692.92535   512.19226   501.2897    445.302\n",
            "   400.75095   356.98172   333.2862    266.98706   250.60538   232.2069\n",
            "   220.31955   197.27808   172.37302   166.1995    155.08774   149.93387\n",
            "   137.71613   120.90774   112.66402   108.70367]\n",
            "\n",
            " Explained variance ratio (procentowo): \n",
            " [0.3814113  0.14766514 0.09669098 0.05840718 0.04583111 0.02634299\n",
            " 0.02387948 0.02097516 0.01699608 0.01256306 0.01229564 0.01092237\n",
            " 0.00982962 0.00875605 0.00817485 0.00654866 0.00614685 0.00569557\n",
            " 0.005404   0.00483884 0.00422797 0.00407654 0.00380399 0.00367758\n",
            " 0.0033779  0.00296563 0.00276342 0.00266629]\n"
          ]
        },
        {
          "output_type": "stream",
          "name": "stderr",
          "text": [
            "\u001b[1;38;5;214mCOMET WARNING:\u001b[0m To get all data logged automatically, import comet_ml before the following modules: sklearn, torch.\n",
            "\u001b[1;38;5;214mCOMET WARNING:\u001b[0m Couldn't retrieve and log Google Colab notebook content, reason: 'NoneType' object is not subscriptable\n",
            "\u001b[1;38;5;39mCOMET INFO:\u001b[0m ---------------------------------------------------------------------------------------\n",
            "\u001b[1;38;5;39mCOMET INFO:\u001b[0m Comet.ml Experiment Summary\n",
            "\u001b[1;38;5;39mCOMET INFO:\u001b[0m ---------------------------------------------------------------------------------------\n",
            "\u001b[1;38;5;39mCOMET INFO:\u001b[0m   Data:\n",
            "\u001b[1;38;5;39mCOMET INFO:\u001b[0m     display_summary_level : 1\n",
            "\u001b[1;38;5;39mCOMET INFO:\u001b[0m     name                  : silent_report_9502\n",
            "\u001b[1;38;5;39mCOMET INFO:\u001b[0m     url                   : https://www.comet.com/wikiart-inpainting/feature-extraction/fa576a6adf6a4a33b7ccf0ef6282bbad\n",
            "\u001b[1;38;5;39mCOMET INFO:\u001b[0m   Others:\n",
            "\u001b[1;38;5;39mCOMET INFO:\u001b[0m     notebook_url : https://colab.research.google.com/notebook#fileId=1315qGjieKnUl4VZpvknYeOHHBUJ1N-HY\n",
            "\u001b[1;38;5;39mCOMET INFO:\u001b[0m   Uploads:\n",
            "\u001b[1;38;5;39mCOMET INFO:\u001b[0m     filename    : 1\n",
            "\u001b[1;38;5;39mCOMET INFO:\u001b[0m     notebook    : 1\n",
            "\u001b[1;38;5;39mCOMET INFO:\u001b[0m     source_code : 1\n",
            "\u001b[1;38;5;39mCOMET INFO:\u001b[0m \n",
            "\u001b[1;38;5;214mCOMET WARNING:\u001b[0m To get all data logged automatically, import comet_ml before the following modules: sklearn, torch.\n",
            "\u001b[1;38;5;214mCOMET WARNING:\u001b[0m As you are running in a Jupyter environment, you will need to call `experiment.end()` when finished to ensure all metrics and code are logged before exiting.\n",
            "\u001b[1;38;5;39mCOMET INFO:\u001b[0m Experiment is live on comet.com https://www.comet.com/wikiart-inpainting/feature-extraction/284c67f90c064f8cb268744715c733de\n",
            "\n",
            "\u001b[1;38;5;39mCOMET INFO:\u001b[0m Couldn't find a Git repository in '/content' nor in any parent directory. Set `COMET_GIT_DIRECTORY` if your Git Repository is elsewhere.\n",
            "Processing batches: 100%|██████████| 41/41 [00:32<00:00,  1.27it/s]\n"
          ]
        },
        {
          "output_type": "stream",
          "name": "stdout",
          "text": [
            "\n",
            " Cechy i indeksy zapisane w: /content/drive/MyDrive/Result/valid_features_and_indices.npz\n"
          ]
        }
      ],
      "source": [
        "valid_features_path = feature_extractor.multi_features_extract(valid_dataloader, best_n_components, file_name, pca_model_path, scaler_model_path)"
      ]
    },
    {
      "cell_type": "markdown",
      "metadata": {
        "id": "1JmWUBpbMb_o"
      },
      "source": [
        "### Ekstrakcja cech z pojedynczego obrazu\n",
        "\n",
        "**Załadowanie modelu PCA**\n",
        "\n",
        "**Załadowanie modelu MinMaxScaler**"
      ]
    },
    {
      "cell_type": "code",
      "execution_count": 34,
      "metadata": {
        "colab": {
          "base_uri": "https://localhost:8080/",
          "height": 211
        },
        "id": "-Frcz-BskEc9",
        "outputId": "01f61f7d-183c-4590-e0d8-66c21cee22d4"
      },
      "outputs": [
        {
          "output_type": "error",
          "ename": "NameError",
          "evalue": "name 'test_dataset' is not defined",
          "traceback": [
            "\u001b[0;31m---------------------------------------------------------------------------\u001b[0m",
            "\u001b[0;31mNameError\u001b[0m                                 Traceback (most recent call last)",
            "\u001b[0;32m<ipython-input-34-6db229ed0e50>\u001b[0m in \u001b[0;36m<cell line: 1>\u001b[0;34m()\u001b[0m\n\u001b[0;32m----> 1\u001b[0;31m \u001b[0mcurrent_image_idx\u001b[0m \u001b[0;34m=\u001b[0m \u001b[0mnp\u001b[0m\u001b[0;34m.\u001b[0m\u001b[0mrandom\u001b[0m\u001b[0;34m.\u001b[0m\u001b[0mrandint\u001b[0m\u001b[0;34m(\u001b[0m\u001b[0;36m0\u001b[0m\u001b[0;34m,\u001b[0m \u001b[0mlen\u001b[0m\u001b[0;34m(\u001b[0m\u001b[0mtest_dataset\u001b[0m\u001b[0;34m)\u001b[0m\u001b[0;34m)\u001b[0m\u001b[0;34m\u001b[0m\u001b[0;34m\u001b[0m\u001b[0m\n\u001b[0m\u001b[1;32m      2\u001b[0m \u001b[0;34m\u001b[0m\u001b[0m\n\u001b[1;32m      3\u001b[0m \u001b[0mimage\u001b[0m\u001b[0;34m,\u001b[0m \u001b[0m_\u001b[0m\u001b[0;34m,\u001b[0m \u001b[0m_\u001b[0m \u001b[0;34m=\u001b[0m \u001b[0mtest_dataset\u001b[0m\u001b[0;34m[\u001b[0m\u001b[0mcurrent_image_idx\u001b[0m\u001b[0;34m]\u001b[0m\u001b[0;34m\u001b[0m\u001b[0;34m\u001b[0m\u001b[0m\n\u001b[1;32m      4\u001b[0m \u001b[0mprint\u001b[0m\u001b[0;34m(\u001b[0m\u001b[0mnp\u001b[0m\u001b[0;34m.\u001b[0m\u001b[0mshape\u001b[0m\u001b[0;34m(\u001b[0m\u001b[0mimage\u001b[0m\u001b[0;34m)\u001b[0m\u001b[0;34m)\u001b[0m\u001b[0;34m\u001b[0m\u001b[0;34m\u001b[0m\u001b[0m\n\u001b[1;32m      5\u001b[0m \u001b[0;34m\u001b[0m\u001b[0m\n",
            "\u001b[0;31mNameError\u001b[0m: name 'test_dataset' is not defined"
          ]
        }
      ],
      "source": [
        "current_image_idx = np.random.randint(0, len(test_dataset))\n",
        "\n",
        "image, _, _ = test_dataset[current_image_idx]\n",
        "print(np.shape(image))\n",
        "\n",
        "features = feature_extractor.single_features_extract(image)\n",
        "print(np.shape(features))"
      ]
    },
    {
      "cell_type": "markdown",
      "metadata": {
        "id": "FafKRzU8K3fi"
      },
      "source": [
        "## Klasteryzacja"
      ]
    },
    {
      "cell_type": "markdown",
      "source": [
        "### Inicjalizacja Klasteryzatora"
      ],
      "metadata": {
        "id": "Sym5tc4RjLeR"
      }
    },
    {
      "cell_type": "code",
      "execution_count": 6,
      "metadata": {
        "id": "e2-dQ-zWwymz"
      },
      "outputs": [],
      "source": [
        "clusterizer = Clusterizer(comet_logger)"
      ]
    },
    {
      "cell_type": "code",
      "execution_count": 7,
      "metadata": {
        "id": "Wjamo0EIK52r"
      },
      "outputs": [],
      "source": [
        "train_features_path = '/content/drive/MyDrive/Result/train_features_and_indices.npz'\n",
        "valid_features_path = '/content/drive/MyDrive/Result/valid_features_and_indices.npz'\n",
        "clusterizer.load_features('train', train_features_path)\n",
        "clusterizer.load_features('valid', valid_features_path)"
      ]
    },
    {
      "cell_type": "markdown",
      "metadata": {
        "id": "Su8Oy2vnkRgZ"
      },
      "source": [
        "### Szacowanie liczby klastrów metodą łokcia"
      ]
    },
    {
      "cell_type": "code",
      "execution_count": null,
      "metadata": {
        "colab": {
          "base_uri": "https://localhost:8080/"
        },
        "id": "KDIGt9Z2RheN",
        "outputId": "4f1fcfbd-bdde-466b-e37c-6390c96755bd"
      },
      "outputs": [
        {
          "output_type": "stream",
          "name": "stderr",
          "text": [
            "Testing number of clusters: 100%|██████████| 49/49 [01:12<00:00,  1.48s/it]\n",
            "\u001b[1;38;5;214mCOMET WARNING:\u001b[0m To get all data logged automatically, import comet_ml before the following modules: sklearn, torch.\n",
            "\u001b[1;38;5;214mCOMET WARNING:\u001b[0m As you are running in a Jupyter environment, you will need to call `experiment.end()` when finished to ensure all metrics and code are logged before exiting.\n",
            "\u001b[1;38;5;39mCOMET INFO:\u001b[0m Experiment is live on comet.com https://www.comet.com/wikiart-inpainting/clustering/1c4876a559064f76a8cb78e83bf8be61\n",
            "\n",
            "\u001b[1;38;5;39mCOMET INFO:\u001b[0m Couldn't find a Git repository in '/content' nor in any parent directory. Set `COMET_GIT_DIRECTORY` if your Git Repository is elsewhere.\n"
          ]
        }
      ],
      "source": [
        "clusterizer.draw_ebolow_method(1, 50)"
      ]
    },
    {
      "cell_type": "markdown",
      "metadata": {
        "id": "SIS7fNpCkY69"
      },
      "source": [
        "### Szacowanie liczby klastrów z użyciem Spectral Clustering (15% zbioru)"
      ]
    },
    {
      "cell_type": "code",
      "execution_count": null,
      "metadata": {
        "colab": {
          "base_uri": "https://localhost:8080/"
        },
        "id": "u4JrWCSBR52h",
        "outputId": "511057d5-953c-4d36-c7a8-c269fb2dc7a4"
      },
      "outputs": [
        {
          "output_type": "stream",
          "name": "stderr",
          "text": [
            "Testing number of clusters: 100%|██████████| 19/19 [08:18<00:00, 26.26s/it]\n"
          ]
        }
      ],
      "source": [
        "clusterizer.draw_spectral_method(2, 21, 0.1)"
      ]
    },
    {
      "cell_type": "markdown",
      "source": [
        "### Szacowanie liczby klastrów metodą Calinski-Harabasz Index"
      ],
      "metadata": {
        "id": "idmidNeT44KY"
      }
    },
    {
      "cell_type": "code",
      "source": [
        "#Indeks Calinskiego-Harabasza (zwany także \"Variance Ratio Criterion\") oblicza\n",
        "#stosunek sumy wewnętrznej wariancji do wariancji między klastrami\n",
        "clusterizer.draw_calinski_harabasz_method(2, 50)"
      ],
      "metadata": {
        "colab": {
          "base_uri": "https://localhost:8080/"
        },
        "id": "iP60RGng432k",
        "outputId": "cc400ca2-a61f-4eed-a676-b38980737f59"
      },
      "execution_count": null,
      "outputs": [
        {
          "output_type": "stream",
          "name": "stderr",
          "text": [
            "Testing number of clusters with Calinski-Harabasz: 100%|██████████| 48/48 [01:20<00:00,  1.68s/it]\n",
            "\u001b[1;38;5;214mCOMET WARNING:\u001b[0m To get all data logged automatically, import comet_ml before the following modules: sklearn, torch.\n",
            "\u001b[1;38;5;214mCOMET WARNING:\u001b[0m As you are running in a Jupyter environment, you will need to call `experiment.end()` when finished to ensure all metrics and code are logged before exiting.\n",
            "\u001b[1;38;5;39mCOMET INFO:\u001b[0m Experiment is live on comet.com https://www.comet.com/wikiart-inpainting/clustering/c5a72a3197e74b1aa653d34560ef5c4b\n",
            "\n",
            "\u001b[1;38;5;39mCOMET INFO:\u001b[0m Couldn't find a Git repository in '/content' nor in any parent directory. Set `COMET_GIT_DIRECTORY` if your Git Repository is elsewhere.\n"
          ]
        }
      ]
    },
    {
      "cell_type": "markdown",
      "source": [
        "### Szacowanie liczby klastrów Silhouette Score ()"
      ],
      "metadata": {
        "id": "gbV_05gECct9"
      }
    },
    {
      "cell_type": "code",
      "source": [
        "clusterizer.draw_silhouette_score(2, 50, 0.75)"
      ],
      "metadata": {
        "colab": {
          "base_uri": "https://localhost:8080/"
        },
        "id": "bPVafMlwBiGb",
        "outputId": "29e47a9a-5e82-4dc5-ed6c-4c767c4f1686"
      },
      "execution_count": 14,
      "outputs": [
        {
          "output_type": "stream",
          "name": "stderr",
          "text": [
            "Testing number of clusters with Silhouette Score: 100%|██████████| 48/48 [44:36<00:00, 55.76s/it]\n",
            "\u001b[1;38;5;214mCOMET WARNING:\u001b[0m To get all data logged automatically, import comet_ml before the following modules: torch, sklearn.\n",
            "\u001b[1;38;5;214mCOMET WARNING:\u001b[0m As you are running in a Jupyter environment, you will need to call `experiment.end()` when finished to ensure all metrics and code are logged before exiting.\n",
            "\u001b[1;38;5;39mCOMET INFO:\u001b[0m Experiment is live on comet.com https://www.comet.com/wikiart-inpainting/clustering/87bb00e6c63842b1ab8f8b37debd4f77\n",
            "\n",
            "\u001b[1;38;5;39mCOMET INFO:\u001b[0m Couldn't find a Git repository in '/content' nor in any parent directory. Set `COMET_GIT_DIRECTORY` if your Git Repository is elsewhere.\n"
          ]
        }
      ]
    },
    {
      "cell_type": "code",
      "execution_count": null,
      "metadata": {
        "id": "RIr6d121QchK"
      },
      "outputs": [],
      "source": []
    },
    {
      "cell_type": "markdown",
      "metadata": {
        "id": "6r_e-NyRkHYF"
      },
      "source": [
        "### Wizualizacja klastrów z UMAP (pełny zbiór) i TSNE (5k próbek)"
      ]
    },
    {
      "cell_type": "code",
      "source": [
        "n_clusters = 6 #Warte przetestowania: 2, 3, 4, 5, 6, 7 9, 12"
      ],
      "metadata": {
        "id": "ea75bdrcSEj1"
      },
      "execution_count": 25,
      "outputs": []
    },
    {
      "cell_type": "code",
      "execution_count": 9,
      "metadata": {
        "colab": {
          "base_uri": "https://localhost:8080/"
        },
        "id": "mQsjetc2Z0J-",
        "outputId": "ee84777e-c093-4f31-d69e-92b28fd84524"
      },
      "outputs": [
        {
          "output_type": "stream",
          "name": "stdout",
          "text": [
            "Rozpoczynam klasteryzację...\n"
          ]
        },
        {
          "output_type": "stream",
          "name": "stderr",
          "text": [
            "Klasteryzacja: 100%|██████████| 1/1 [00:00<00:00,  2.14it/s]\n"
          ]
        },
        {
          "output_type": "stream",
          "name": "stdout",
          "text": [
            "Rozpoczynam redukcję wymiarów (t-SNE)...\n"
          ]
        },
        {
          "output_type": "stream",
          "name": "stderr",
          "text": [
            "t-SNE: 100%|██████████| 1/1 [02:43<00:00, 163.63s/it]\n"
          ]
        },
        {
          "output_type": "stream",
          "name": "stdout",
          "text": [
            "Rozpoczynam redukcję wymiarów (UMAP)...\n"
          ]
        },
        {
          "output_type": "stream",
          "name": "stderr",
          "text": [
            "\rUMAP:   0%|          | 0/1 [00:00<?, ?it/s]/usr/local/lib/python3.10/dist-packages/sklearn/utils/deprecation.py:151: FutureWarning: 'force_all_finite' was renamed to 'ensure_all_finite' in 1.6 and will be removed in 1.8.\n",
            "  warnings.warn(\n",
            "/usr/local/lib/python3.10/dist-packages/umap/umap_.py:1952: UserWarning: n_jobs value 1 overridden to 1 by setting random_state. Use no seed for parallelism.\n",
            "  warn(\n",
            "UMAP: 100%|██████████| 1/1 [02:23<00:00, 143.99s/it]\n",
            "\u001b[1;38;5;214mCOMET WARNING:\u001b[0m To get all data logged automatically, import comet_ml before the following modules: sklearn, torch.\n",
            "\u001b[1;38;5;214mCOMET WARNING:\u001b[0m As you are running in a Jupyter environment, you will need to call `experiment.end()` when finished to ensure all metrics and code are logged before exiting.\n"
          ]
        },
        {
          "output_type": "stream",
          "name": "stdout",
          "text": [
            "Tworzę wykres t-SNE...\n",
            "Loguję wykres t-SNE na Comet...\n"
          ]
        },
        {
          "output_type": "stream",
          "name": "stderr",
          "text": [
            "\u001b[1;38;5;39mCOMET INFO:\u001b[0m Experiment is live on comet.com https://www.comet.com/wikiart-inpainting/clustering/e384dbc2ba914ed8a5409426a2d38631\n",
            "\n",
            "\u001b[1;38;5;39mCOMET INFO:\u001b[0m Couldn't find a Git repository in '/content' nor in any parent directory. Set `COMET_GIT_DIRECTORY` if your Git Repository is elsewhere.\n"
          ]
        },
        {
          "output_type": "stream",
          "name": "stdout",
          "text": [
            "Tworzę wykres UMAP...\n",
            "Loguję wykres UMAP na Comet...\n",
            "Proces zakończony.\n"
          ]
        }
      ],
      "source": [
        "clusterizer.generate_and_log_cluster_plot(n_clusters)"
      ]
    },
    {
      "cell_type": "markdown",
      "source": [
        "### Klasteryzacja zbioru treningowego"
      ],
      "metadata": {
        "id": "emOdkJN9jR2k"
      }
    },
    {
      "cell_type": "code",
      "execution_count": 26,
      "metadata": {
        "colab": {
          "base_uri": "https://localhost:8080/"
        },
        "id": "G_TWQ9utSqHv",
        "outputId": "f6a756df-25e0-4d70-bba0-e9aecc995d13"
      },
      "outputs": [
        {
          "output_type": "stream",
          "name": "stdout",
          "text": [
            "Model KMeans zapisany w: /content/drive/MyDrive/Models/kmeans_model.pkl\n",
            "Klastry i indeksy zapisane w: /content/drive/MyDrive/train_clusters.npz\n"
          ]
        }
      ],
      "source": [
        "train_clusters_path = clusterizer.clusterize('train', n_clusters)\n",
        "\n",
        "cluster_counts = clusterizer.count_samples_per_cluster(train_clusters_path)"
      ]
    },
    {
      "cell_type": "markdown",
      "source": [
        "### Klasteryzacja zbioru walidacyjnego"
      ],
      "metadata": {
        "id": "B87tdL0XjWQ1"
      }
    },
    {
      "cell_type": "code",
      "execution_count": 27,
      "metadata": {
        "colab": {
          "base_uri": "https://localhost:8080/"
        },
        "id": "OD8EHtjDcvZR",
        "outputId": "d594e12a-8e32-4d35-97c0-c82e3acb7641"
      },
      "outputs": [
        {
          "output_type": "stream",
          "name": "stdout",
          "text": [
            "Załadowano model KMeans z: /content/drive/MyDrive/Models/kmeans_model.pkl\n",
            "Klastry i indeksy zapisane w: /content/drive/MyDrive/valid_clusters.npz\n"
          ]
        }
      ],
      "source": [
        "valid_clusters_path = clusterizer.clusterize('valid', n_clusters)\n",
        "\n",
        "cluster_counts = clusterizer.count_samples_per_cluster(valid_clusters_path)"
      ]
    },
    {
      "cell_type": "markdown",
      "source": [
        "### Porównanie obrazów z losowwego klastra dla zbioru treningowego i walidacyjnego"
      ],
      "metadata": {
        "id": "HXxjGIl1ja1w"
      }
    },
    {
      "cell_type": "code",
      "execution_count": null,
      "metadata": {
        "id": "EVWqTSWKd1GJ"
      },
      "outputs": [],
      "source": [
        "train_images, valid_images, cluster_id = clusterizer.get_images_from_random_cluster(\n",
        "    train_cluster_file='/content/drive/MyDrive/train_clusters.npz',\n",
        "    valid_cluster_file='/content/drive/MyDrive/valid_clusters.npz',\n",
        "    train_dataset=train_dataset,\n",
        "    valid_dataset=valid_dataset\n",
        ")\n",
        "\n",
        "if train_images and valid_images:\n",
        "\n",
        "    # Przygotowanie siatki dla obrazów\n",
        "    fig, axes = plt.subplots(2, 4, figsize=(15, 8))\n",
        "    fig.suptitle(f\"Obrazy dla klastra {cluster_id}\", fontsize=16)\n",
        "\n",
        "    # Funkcja pomocnicza do wyświetlania obrazów\n",
        "    def show_images(images, row, title_prefix):\n",
        "        for i, img in enumerate(images[:4]):  # Po 4 obrazy\n",
        "            grid_np = img.permute(1, 2, 0).numpy()  # Przekształcenie do HxWxC\n",
        "            axes[row, i].imshow(grid_np)\n",
        "            axes[row, i].set_title(f\"{title_prefix} {i+1}\")\n",
        "            axes[row, i].axis(\"off\")\n",
        "\n",
        "    # Wyświetlanie obrazów treningowych\n",
        "    show_images(train_images, row=0, title_prefix=\"Train\")\n",
        "\n",
        "    # Wyświetlanie obrazów walidacyjnych\n",
        "    show_images(valid_images, row=1, title_prefix=\"Valid\")\n",
        "\n",
        "    # Pokazanie wykresu\n",
        "    plt.tight_layout()\n",
        "    plt.subplots_adjust(top=0.88)  # Dostosowanie przestrzeni dla tytułu\n",
        "    plt.show()\n",
        "else:\n",
        "    print(\"Nie można wyświetlić obrazów: brak danych w jednym z klastrów.\")\n"
      ]
    },
    {
      "cell_type": "markdown",
      "source": [
        "## Pełne przetwarzanie dla pojedynczej próbki"
      ],
      "metadata": {
        "id": "agwGPHQxhf_e"
      }
    },
    {
      "cell_type": "code",
      "source": [
        "# Przed uruchomieniem poniższego kodu należy załadować wszystkie wymagane biblioteki\n",
        "#i wykonać metody w sekcji \"Dane\""
      ],
      "metadata": {
        "id": "pB5hKayhh5ky"
      },
      "execution_count": null,
      "outputs": []
    },
    {
      "cell_type": "code",
      "source": [
        "model = UNetLightning()"
      ],
      "metadata": {
        "id": "BIJ5JC_ThXyJ"
      },
      "execution_count": 33,
      "outputs": []
    },
    {
      "cell_type": "code",
      "source": [
        "feature_extractor = FeatureExtractor(model, device, comet_logger, save_dir)\n",
        "\n",
        "print(feature_extractor.summary())"
      ],
      "metadata": {
        "id": "IxdAyC2Hho4T"
      },
      "execution_count": null,
      "outputs": []
    },
    {
      "cell_type": "code",
      "source": [
        "best_model_path = '/content/drive/MyDrive/Models/best_model.pth'\n",
        "feature_extractor.load_from_checkpoint(best_model_path)"
      ],
      "metadata": {
        "id": "PR0Sywqyhsks"
      },
      "execution_count": null,
      "outputs": []
    },
    {
      "cell_type": "code",
      "source": [
        "feature_extractor.evaluate()"
      ],
      "metadata": {
        "id": "1JPzeNunhy__"
      },
      "execution_count": null,
      "outputs": []
    },
    {
      "cell_type": "code",
      "source": [
        "current_image_idx = np.random.randint(0, len(test_dataset))\n",
        "\n",
        "image, _, _ = test_dataset[current_image_idx]\n",
        "print(np.shape(image))\n",
        "\n",
        "features = feature_extractor.single_features_extract(image)\n",
        "print(np.shape(features))"
      ],
      "metadata": {
        "id": "WfkdtCbchzdH"
      },
      "execution_count": null,
      "outputs": []
    },
    {
      "cell_type": "code",
      "source": [
        "clusterizer = Clusterizer(comet_logger)"
      ],
      "metadata": {
        "id": "Hzx3Zo9nh4uS"
      },
      "execution_count": null,
      "outputs": []
    },
    {
      "cell_type": "code",
      "source": [
        "n_clusters = 6"
      ],
      "metadata": {
        "id": "65DkdGOBij0N"
      },
      "execution_count": null,
      "outputs": []
    },
    {
      "cell_type": "code",
      "source": [
        "cluster_label = clusterizer.clusterize('test', n_clusters, features)\n",
        "print(cluster_label)"
      ],
      "metadata": {
        "id": "uDr722vqiOts"
      },
      "execution_count": null,
      "outputs": []
    }
  ],
  "metadata": {
    "accelerator": "GPU",
    "colab": {
      "collapsed_sections": [
        "y-1F899iRTW4",
        "q2t8pWE0Ldft",
        "9lFW8r9_LjFt",
        "IEHvGP0RLsDi",
        "WWrfptJRLxM8",
        "K4CLbZSTL6YI",
        "3tcmEG22MC4S",
        "pcWahYN7O8Qb",
        "1JmWUBpbMb_o",
        "FafKRzU8K3fi",
        "Sym5tc4RjLeR",
        "Su8Oy2vnkRgZ",
        "SIS7fNpCkY69",
        "idmidNeT44KY",
        "gbV_05gECct9",
        "emOdkJN9jR2k",
        "HXxjGIl1ja1w"
      ],
      "gpuType": "T4",
      "provenance": []
    },
    "kernelspec": {
      "display_name": "Python 3",
      "name": "python3"
    },
    "language_info": {
      "name": "python",
      "version": "3.11.7"
    },
    "widgets": {
      "application/vnd.jupyter.widget-state+json": {
        "000fb3015f584242be1e50ce562871c4": {
          "model_module": "@jupyter-widgets/base",
          "model_module_version": "1.2.0",
          "model_name": "LayoutModel",
          "state": {
            "_model_module": "@jupyter-widgets/base",
            "_model_module_version": "1.2.0",
            "_model_name": "LayoutModel",
            "_view_count": null,
            "_view_module": "@jupyter-widgets/base",
            "_view_module_version": "1.2.0",
            "_view_name": "LayoutView",
            "align_content": null,
            "align_items": null,
            "align_self": null,
            "border": null,
            "bottom": null,
            "display": null,
            "flex": null,
            "flex_flow": null,
            "grid_area": null,
            "grid_auto_columns": null,
            "grid_auto_flow": null,
            "grid_auto_rows": null,
            "grid_column": null,
            "grid_gap": null,
            "grid_row": null,
            "grid_template_areas": null,
            "grid_template_columns": null,
            "grid_template_rows": null,
            "height": null,
            "justify_content": null,
            "justify_items": null,
            "left": null,
            "margin": null,
            "max_height": null,
            "max_width": null,
            "min_height": null,
            "min_width": null,
            "object_fit": null,
            "object_position": null,
            "order": null,
            "overflow": null,
            "overflow_x": null,
            "overflow_y": null,
            "padding": null,
            "right": null,
            "top": null,
            "visibility": null,
            "width": null
          }
        },
        "07562ebc6a314123863814bb496e3fb8": {
          "model_module": "@jupyter-widgets/base",
          "model_module_version": "1.2.0",
          "model_name": "LayoutModel",
          "state": {
            "_model_module": "@jupyter-widgets/base",
            "_model_module_version": "1.2.0",
            "_model_name": "LayoutModel",
            "_view_count": null,
            "_view_module": "@jupyter-widgets/base",
            "_view_module_version": "1.2.0",
            "_view_name": "LayoutView",
            "align_content": null,
            "align_items": null,
            "align_self": null,
            "border": null,
            "bottom": null,
            "display": null,
            "flex": null,
            "flex_flow": null,
            "grid_area": null,
            "grid_auto_columns": null,
            "grid_auto_flow": null,
            "grid_auto_rows": null,
            "grid_column": null,
            "grid_gap": null,
            "grid_row": null,
            "grid_template_areas": null,
            "grid_template_columns": null,
            "grid_template_rows": null,
            "height": null,
            "justify_content": null,
            "justify_items": null,
            "left": null,
            "margin": null,
            "max_height": null,
            "max_width": null,
            "min_height": null,
            "min_width": null,
            "object_fit": null,
            "object_position": null,
            "order": null,
            "overflow": null,
            "overflow_x": null,
            "overflow_y": null,
            "padding": null,
            "right": null,
            "top": null,
            "visibility": null,
            "width": null
          }
        },
        "10d6dc4411c5417ba0694c95f59928e8": {
          "model_module": "@jupyter-widgets/controls",
          "model_module_version": "1.5.0",
          "model_name": "HBoxModel",
          "state": {
            "_dom_classes": [],
            "_model_module": "@jupyter-widgets/controls",
            "_model_module_version": "1.5.0",
            "_model_name": "HBoxModel",
            "_view_count": null,
            "_view_module": "@jupyter-widgets/controls",
            "_view_module_version": "1.5.0",
            "_view_name": "HBoxView",
            "box_style": "",
            "children": [
              "IPY_MODEL_3667f587df574abaa14af4b23a7c1c3d",
              "IPY_MODEL_5f10c22070d04f32833339341615f2cb",
              "IPY_MODEL_3566414d6904485abbb0d6fdeb6d21c1"
            ],
            "layout": "IPY_MODEL_55f0460d21e54a29b666f6d033f3eb10"
          }
        },
        "159bc688191e4a3eaf235a7b0b98e8e9": {
          "model_module": "@jupyter-widgets/controls",
          "model_module_version": "1.5.0",
          "model_name": "FloatProgressModel",
          "state": {
            "_dom_classes": [],
            "_model_module": "@jupyter-widgets/controls",
            "_model_module_version": "1.5.0",
            "_model_name": "FloatProgressModel",
            "_view_count": null,
            "_view_module": "@jupyter-widgets/controls",
            "_view_module_version": "1.5.0",
            "_view_name": "ProgressView",
            "bar_style": "success",
            "description": "",
            "description_tooltip": null,
            "layout": "IPY_MODEL_6d88861f11ee4d858ed4a4c0b70218ec",
            "max": 81,
            "min": 0,
            "orientation": "horizontal",
            "style": "IPY_MODEL_190ec5a9e71a4daabc338c8dbcb702ce",
            "value": 81
          }
        },
        "186bed55ea7e4dd39e73d266dfb16ac5": {
          "model_module": "@jupyter-widgets/base",
          "model_module_version": "1.2.0",
          "model_name": "LayoutModel",
          "state": {
            "_model_module": "@jupyter-widgets/base",
            "_model_module_version": "1.2.0",
            "_model_name": "LayoutModel",
            "_view_count": null,
            "_view_module": "@jupyter-widgets/base",
            "_view_module_version": "1.2.0",
            "_view_name": "LayoutView",
            "align_content": null,
            "align_items": null,
            "align_self": null,
            "border": null,
            "bottom": null,
            "display": null,
            "flex": "2",
            "flex_flow": null,
            "grid_area": null,
            "grid_auto_columns": null,
            "grid_auto_flow": null,
            "grid_auto_rows": null,
            "grid_column": null,
            "grid_gap": null,
            "grid_row": null,
            "grid_template_areas": null,
            "grid_template_columns": null,
            "grid_template_rows": null,
            "height": null,
            "justify_content": null,
            "justify_items": null,
            "left": null,
            "margin": null,
            "max_height": null,
            "max_width": null,
            "min_height": null,
            "min_width": null,
            "object_fit": null,
            "object_position": null,
            "order": null,
            "overflow": null,
            "overflow_x": null,
            "overflow_y": null,
            "padding": null,
            "right": null,
            "top": null,
            "visibility": null,
            "width": null
          }
        },
        "190ec5a9e71a4daabc338c8dbcb702ce": {
          "model_module": "@jupyter-widgets/controls",
          "model_module_version": "1.5.0",
          "model_name": "ProgressStyleModel",
          "state": {
            "_model_module": "@jupyter-widgets/controls",
            "_model_module_version": "1.5.0",
            "_model_name": "ProgressStyleModel",
            "_view_count": null,
            "_view_module": "@jupyter-widgets/base",
            "_view_module_version": "1.2.0",
            "_view_name": "StyleView",
            "bar_color": null,
            "description_width": ""
          }
        },
        "23a1aee0fedc4a4d8f879570f4b8d806": {
          "model_module": "@jupyter-widgets/controls",
          "model_module_version": "1.5.0",
          "model_name": "DescriptionStyleModel",
          "state": {
            "_model_module": "@jupyter-widgets/controls",
            "_model_module_version": "1.5.0",
            "_model_name": "DescriptionStyleModel",
            "_view_count": null,
            "_view_module": "@jupyter-widgets/base",
            "_view_module_version": "1.2.0",
            "_view_name": "StyleView",
            "description_width": ""
          }
        },
        "246ae182941d4caf9fa44f548d2b3a3b": {
          "model_module": "@jupyter-widgets/controls",
          "model_module_version": "1.5.0",
          "model_name": "ProgressStyleModel",
          "state": {
            "_model_module": "@jupyter-widgets/controls",
            "_model_module_version": "1.5.0",
            "_model_name": "ProgressStyleModel",
            "_view_count": null,
            "_view_module": "@jupyter-widgets/base",
            "_view_module_version": "1.2.0",
            "_view_name": "StyleView",
            "bar_color": null,
            "description_width": ""
          }
        },
        "3301c8e636f34d6b95a3db1a2555a798": {
          "model_module": "@jupyter-widgets/base",
          "model_module_version": "1.2.0",
          "model_name": "LayoutModel",
          "state": {
            "_model_module": "@jupyter-widgets/base",
            "_model_module_version": "1.2.0",
            "_model_name": "LayoutModel",
            "_view_count": null,
            "_view_module": "@jupyter-widgets/base",
            "_view_module_version": "1.2.0",
            "_view_name": "LayoutView",
            "align_content": null,
            "align_items": null,
            "align_self": null,
            "border": null,
            "bottom": null,
            "display": null,
            "flex": null,
            "flex_flow": null,
            "grid_area": null,
            "grid_auto_columns": null,
            "grid_auto_flow": null,
            "grid_auto_rows": null,
            "grid_column": null,
            "grid_gap": null,
            "grid_row": null,
            "grid_template_areas": null,
            "grid_template_columns": null,
            "grid_template_rows": null,
            "height": null,
            "justify_content": null,
            "justify_items": null,
            "left": null,
            "margin": null,
            "max_height": null,
            "max_width": null,
            "min_height": null,
            "min_width": null,
            "object_fit": null,
            "object_position": null,
            "order": null,
            "overflow": null,
            "overflow_x": null,
            "overflow_y": null,
            "padding": null,
            "right": null,
            "top": null,
            "visibility": null,
            "width": null
          }
        },
        "3566414d6904485abbb0d6fdeb6d21c1": {
          "model_module": "@jupyter-widgets/controls",
          "model_module_version": "1.5.0",
          "model_name": "HTMLModel",
          "state": {
            "_dom_classes": [],
            "_model_module": "@jupyter-widgets/controls",
            "_model_module_version": "1.5.0",
            "_model_name": "HTMLModel",
            "_view_count": null,
            "_view_module": "@jupyter-widgets/controls",
            "_view_module_version": "1.5.0",
            "_view_name": "HTMLView",
            "description": "",
            "description_tooltip": null,
            "layout": "IPY_MODEL_3301c8e636f34d6b95a3db1a2555a798",
            "placeholder": "​",
            "style": "IPY_MODEL_3c5ffb705e5a4dc992d67e9067998f74",
            "value": " 2/2 [00:00&lt;00:00,  3.02it/s]"
          }
        },
        "3667f587df574abaa14af4b23a7c1c3d": {
          "model_module": "@jupyter-widgets/controls",
          "model_module_version": "1.5.0",
          "model_name": "HTMLModel",
          "state": {
            "_dom_classes": [],
            "_model_module": "@jupyter-widgets/controls",
            "_model_module_version": "1.5.0",
            "_model_name": "HTMLModel",
            "_view_count": null,
            "_view_module": "@jupyter-widgets/controls",
            "_view_module_version": "1.5.0",
            "_view_name": "HTMLView",
            "description": "",
            "description_tooltip": null,
            "layout": "IPY_MODEL_e2cd45f6bde441d48a766343145b4483",
            "placeholder": "​",
            "style": "IPY_MODEL_c4bf594202974b0588d9ac950b968c07",
            "value": "Sanity Checking DataLoader 0: 100%"
          }
        },
        "36f575ba9d3e42d991d332428cec6473": {
          "model_module": "@jupyter-widgets/controls",
          "model_module_version": "1.5.0",
          "model_name": "FloatProgressModel",
          "state": {
            "_dom_classes": [],
            "_model_module": "@jupyter-widgets/controls",
            "_model_module_version": "1.5.0",
            "_model_name": "FloatProgressModel",
            "_view_count": null,
            "_view_module": "@jupyter-widgets/controls",
            "_view_module_version": "1.5.0",
            "_view_name": "ProgressView",
            "bar_style": "",
            "description": "",
            "description_tooltip": null,
            "layout": "IPY_MODEL_4da9ce927a58450bbd915983ecb074b9",
            "max": 81,
            "min": 0,
            "orientation": "horizontal",
            "style": "IPY_MODEL_83b7e07f89554e399c82e00babec4aef",
            "value": 81
          }
        },
        "39a387286a0d4659a2933acde8dc1bb3": {
          "model_module": "@jupyter-widgets/base",
          "model_module_version": "1.2.0",
          "model_name": "LayoutModel",
          "state": {
            "_model_module": "@jupyter-widgets/base",
            "_model_module_version": "1.2.0",
            "_model_name": "LayoutModel",
            "_view_count": null,
            "_view_module": "@jupyter-widgets/base",
            "_view_module_version": "1.2.0",
            "_view_name": "LayoutView",
            "align_content": null,
            "align_items": null,
            "align_self": null,
            "border": null,
            "bottom": null,
            "display": "inline-flex",
            "flex": null,
            "flex_flow": "row wrap",
            "grid_area": null,
            "grid_auto_columns": null,
            "grid_auto_flow": null,
            "grid_auto_rows": null,
            "grid_column": null,
            "grid_gap": null,
            "grid_row": null,
            "grid_template_areas": null,
            "grid_template_columns": null,
            "grid_template_rows": null,
            "height": null,
            "justify_content": null,
            "justify_items": null,
            "left": null,
            "margin": null,
            "max_height": null,
            "max_width": null,
            "min_height": null,
            "min_width": null,
            "object_fit": null,
            "object_position": null,
            "order": null,
            "overflow": null,
            "overflow_x": null,
            "overflow_y": null,
            "padding": null,
            "right": null,
            "top": null,
            "visibility": "hidden",
            "width": "100%"
          }
        },
        "3c5ffb705e5a4dc992d67e9067998f74": {
          "model_module": "@jupyter-widgets/controls",
          "model_module_version": "1.5.0",
          "model_name": "DescriptionStyleModel",
          "state": {
            "_model_module": "@jupyter-widgets/controls",
            "_model_module_version": "1.5.0",
            "_model_name": "DescriptionStyleModel",
            "_view_count": null,
            "_view_module": "@jupyter-widgets/base",
            "_view_module_version": "1.2.0",
            "_view_name": "StyleView",
            "description_width": ""
          }
        },
        "4511a4a749ef4de0a19d166e6e4ee53f": {
          "model_module": "@jupyter-widgets/controls",
          "model_module_version": "1.5.0",
          "model_name": "HTMLModel",
          "state": {
            "_dom_classes": [],
            "_model_module": "@jupyter-widgets/controls",
            "_model_module_version": "1.5.0",
            "_model_name": "HTMLModel",
            "_view_count": null,
            "_view_module": "@jupyter-widgets/controls",
            "_view_module_version": "1.5.0",
            "_view_name": "HTMLView",
            "description": "",
            "description_tooltip": null,
            "layout": "IPY_MODEL_e49856c7b2d240f7b30b48fd440fede9",
            "placeholder": "​",
            "style": "IPY_MODEL_23a1aee0fedc4a4d8f879570f4b8d806",
            "value": "Testing DataLoader 0: 100%"
          }
        },
        "46aee9384a504a7da4e862f1baf8ae52": {
          "model_module": "@jupyter-widgets/controls",
          "model_module_version": "1.5.0",
          "model_name": "DescriptionStyleModel",
          "state": {
            "_model_module": "@jupyter-widgets/controls",
            "_model_module_version": "1.5.0",
            "_model_name": "DescriptionStyleModel",
            "_view_count": null,
            "_view_module": "@jupyter-widgets/base",
            "_view_module_version": "1.2.0",
            "_view_name": "StyleView",
            "description_width": ""
          }
        },
        "4ae70f710bde430d82f8577a9a5b2b87": {
          "model_module": "@jupyter-widgets/controls",
          "model_module_version": "1.5.0",
          "model_name": "HBoxModel",
          "state": {
            "_dom_classes": [],
            "_model_module": "@jupyter-widgets/controls",
            "_model_module_version": "1.5.0",
            "_model_name": "HBoxModel",
            "_view_count": null,
            "_view_module": "@jupyter-widgets/controls",
            "_view_module_version": "1.5.0",
            "_view_name": "HBoxView",
            "box_style": "",
            "children": [
              "IPY_MODEL_4511a4a749ef4de0a19d166e6e4ee53f",
              "IPY_MODEL_159bc688191e4a3eaf235a7b0b98e8e9",
              "IPY_MODEL_ce90ce4caf1c43d496b9a3b0182339a3"
            ],
            "layout": "IPY_MODEL_f00e597862824480b2f51acdd1193b68"
          }
        },
        "4da9ce927a58450bbd915983ecb074b9": {
          "model_module": "@jupyter-widgets/base",
          "model_module_version": "1.2.0",
          "model_name": "LayoutModel",
          "state": {
            "_model_module": "@jupyter-widgets/base",
            "_model_module_version": "1.2.0",
            "_model_name": "LayoutModel",
            "_view_count": null,
            "_view_module": "@jupyter-widgets/base",
            "_view_module_version": "1.2.0",
            "_view_name": "LayoutView",
            "align_content": null,
            "align_items": null,
            "align_self": null,
            "border": null,
            "bottom": null,
            "display": null,
            "flex": "2",
            "flex_flow": null,
            "grid_area": null,
            "grid_auto_columns": null,
            "grid_auto_flow": null,
            "grid_auto_rows": null,
            "grid_column": null,
            "grid_gap": null,
            "grid_row": null,
            "grid_template_areas": null,
            "grid_template_columns": null,
            "grid_template_rows": null,
            "height": null,
            "justify_content": null,
            "justify_items": null,
            "left": null,
            "margin": null,
            "max_height": null,
            "max_width": null,
            "min_height": null,
            "min_width": null,
            "object_fit": null,
            "object_position": null,
            "order": null,
            "overflow": null,
            "overflow_x": null,
            "overflow_y": null,
            "padding": null,
            "right": null,
            "top": null,
            "visibility": null,
            "width": null
          }
        },
        "55f0460d21e54a29b666f6d033f3eb10": {
          "model_module": "@jupyter-widgets/base",
          "model_module_version": "1.2.0",
          "model_name": "LayoutModel",
          "state": {
            "_model_module": "@jupyter-widgets/base",
            "_model_module_version": "1.2.0",
            "_model_name": "LayoutModel",
            "_view_count": null,
            "_view_module": "@jupyter-widgets/base",
            "_view_module_version": "1.2.0",
            "_view_name": "LayoutView",
            "align_content": null,
            "align_items": null,
            "align_self": null,
            "border": null,
            "bottom": null,
            "display": "inline-flex",
            "flex": null,
            "flex_flow": "row wrap",
            "grid_area": null,
            "grid_auto_columns": null,
            "grid_auto_flow": null,
            "grid_auto_rows": null,
            "grid_column": null,
            "grid_gap": null,
            "grid_row": null,
            "grid_template_areas": null,
            "grid_template_columns": null,
            "grid_template_rows": null,
            "height": null,
            "justify_content": null,
            "justify_items": null,
            "left": null,
            "margin": null,
            "max_height": null,
            "max_width": null,
            "min_height": null,
            "min_width": null,
            "object_fit": null,
            "object_position": null,
            "order": null,
            "overflow": null,
            "overflow_x": null,
            "overflow_y": null,
            "padding": null,
            "right": null,
            "top": null,
            "visibility": "hidden",
            "width": "100%"
          }
        },
        "5f10c22070d04f32833339341615f2cb": {
          "model_module": "@jupyter-widgets/controls",
          "model_module_version": "1.5.0",
          "model_name": "FloatProgressModel",
          "state": {
            "_dom_classes": [],
            "_model_module": "@jupyter-widgets/controls",
            "_model_module_version": "1.5.0",
            "_model_name": "FloatProgressModel",
            "_view_count": null,
            "_view_module": "@jupyter-widgets/controls",
            "_view_module_version": "1.5.0",
            "_view_name": "ProgressView",
            "bar_style": "",
            "description": "",
            "description_tooltip": null,
            "layout": "IPY_MODEL_186bed55ea7e4dd39e73d266dfb16ac5",
            "max": 2,
            "min": 0,
            "orientation": "horizontal",
            "style": "IPY_MODEL_e337b4d2e3364ebb8b1fa7cb1bebf894",
            "value": 2
          }
        },
        "63eb27c952904ccf8ef9a1b843fe615e": {
          "model_module": "@jupyter-widgets/controls",
          "model_module_version": "1.5.0",
          "model_name": "DescriptionStyleModel",
          "state": {
            "_model_module": "@jupyter-widgets/controls",
            "_model_module_version": "1.5.0",
            "_model_name": "DescriptionStyleModel",
            "_view_count": null,
            "_view_module": "@jupyter-widgets/base",
            "_view_module_version": "1.2.0",
            "_view_name": "StyleView",
            "description_width": ""
          }
        },
        "6b89999f9796487f935bb5bc8505eedc": {
          "model_module": "@jupyter-widgets/controls",
          "model_module_version": "1.5.0",
          "model_name": "DescriptionStyleModel",
          "state": {
            "_model_module": "@jupyter-widgets/controls",
            "_model_module_version": "1.5.0",
            "_model_name": "DescriptionStyleModel",
            "_view_count": null,
            "_view_module": "@jupyter-widgets/base",
            "_view_module_version": "1.2.0",
            "_view_name": "StyleView",
            "description_width": ""
          }
        },
        "6c6341133ea34735af036e969cd14dcd": {
          "model_module": "@jupyter-widgets/controls",
          "model_module_version": "1.5.0",
          "model_name": "DescriptionStyleModel",
          "state": {
            "_model_module": "@jupyter-widgets/controls",
            "_model_module_version": "1.5.0",
            "_model_name": "DescriptionStyleModel",
            "_view_count": null,
            "_view_module": "@jupyter-widgets/base",
            "_view_module_version": "1.2.0",
            "_view_name": "StyleView",
            "description_width": ""
          }
        },
        "6d88861f11ee4d858ed4a4c0b70218ec": {
          "model_module": "@jupyter-widgets/base",
          "model_module_version": "1.2.0",
          "model_name": "LayoutModel",
          "state": {
            "_model_module": "@jupyter-widgets/base",
            "_model_module_version": "1.2.0",
            "_model_name": "LayoutModel",
            "_view_count": null,
            "_view_module": "@jupyter-widgets/base",
            "_view_module_version": "1.2.0",
            "_view_name": "LayoutView",
            "align_content": null,
            "align_items": null,
            "align_self": null,
            "border": null,
            "bottom": null,
            "display": null,
            "flex": "2",
            "flex_flow": null,
            "grid_area": null,
            "grid_auto_columns": null,
            "grid_auto_flow": null,
            "grid_auto_rows": null,
            "grid_column": null,
            "grid_gap": null,
            "grid_row": null,
            "grid_template_areas": null,
            "grid_template_columns": null,
            "grid_template_rows": null,
            "height": null,
            "justify_content": null,
            "justify_items": null,
            "left": null,
            "margin": null,
            "max_height": null,
            "max_width": null,
            "min_height": null,
            "min_width": null,
            "object_fit": null,
            "object_position": null,
            "order": null,
            "overflow": null,
            "overflow_x": null,
            "overflow_y": null,
            "padding": null,
            "right": null,
            "top": null,
            "visibility": null,
            "width": null
          }
        },
        "7ca5d47d491147dca749e06caef6839b": {
          "model_module": "@jupyter-widgets/controls",
          "model_module_version": "1.5.0",
          "model_name": "HBoxModel",
          "state": {
            "_dom_classes": [],
            "_model_module": "@jupyter-widgets/controls",
            "_model_module_version": "1.5.0",
            "_model_name": "HBoxModel",
            "_view_count": null,
            "_view_module": "@jupyter-widgets/controls",
            "_view_module_version": "1.5.0",
            "_view_name": "HBoxView",
            "box_style": "",
            "children": [
              "IPY_MODEL_a927442eefc64b6fb50c3ba1aad54a79",
              "IPY_MODEL_36f575ba9d3e42d991d332428cec6473",
              "IPY_MODEL_f88af46410664f529ccf997d5a559b68"
            ],
            "layout": "IPY_MODEL_39a387286a0d4659a2933acde8dc1bb3"
          }
        },
        "83b7e07f89554e399c82e00babec4aef": {
          "model_module": "@jupyter-widgets/controls",
          "model_module_version": "1.5.0",
          "model_name": "ProgressStyleModel",
          "state": {
            "_model_module": "@jupyter-widgets/controls",
            "_model_module_version": "1.5.0",
            "_model_name": "ProgressStyleModel",
            "_view_count": null,
            "_view_module": "@jupyter-widgets/base",
            "_view_module_version": "1.2.0",
            "_view_name": "StyleView",
            "bar_color": null,
            "description_width": ""
          }
        },
        "9ff89ffc161f485e918410a95120ce4b": {
          "model_module": "@jupyter-widgets/base",
          "model_module_version": "1.2.0",
          "model_name": "LayoutModel",
          "state": {
            "_model_module": "@jupyter-widgets/base",
            "_model_module_version": "1.2.0",
            "_model_name": "LayoutModel",
            "_view_count": null,
            "_view_module": "@jupyter-widgets/base",
            "_view_module_version": "1.2.0",
            "_view_name": "LayoutView",
            "align_content": null,
            "align_items": null,
            "align_self": null,
            "border": null,
            "bottom": null,
            "display": null,
            "flex": null,
            "flex_flow": null,
            "grid_area": null,
            "grid_auto_columns": null,
            "grid_auto_flow": null,
            "grid_auto_rows": null,
            "grid_column": null,
            "grid_gap": null,
            "grid_row": null,
            "grid_template_areas": null,
            "grid_template_columns": null,
            "grid_template_rows": null,
            "height": null,
            "justify_content": null,
            "justify_items": null,
            "left": null,
            "margin": null,
            "max_height": null,
            "max_width": null,
            "min_height": null,
            "min_width": null,
            "object_fit": null,
            "object_position": null,
            "order": null,
            "overflow": null,
            "overflow_x": null,
            "overflow_y": null,
            "padding": null,
            "right": null,
            "top": null,
            "visibility": null,
            "width": null
          }
        },
        "a2b781b5875d4649838a898981de33c7": {
          "model_module": "@jupyter-widgets/base",
          "model_module_version": "1.2.0",
          "model_name": "LayoutModel",
          "state": {
            "_model_module": "@jupyter-widgets/base",
            "_model_module_version": "1.2.0",
            "_model_name": "LayoutModel",
            "_view_count": null,
            "_view_module": "@jupyter-widgets/base",
            "_view_module_version": "1.2.0",
            "_view_name": "LayoutView",
            "align_content": null,
            "align_items": null,
            "align_self": null,
            "border": null,
            "bottom": null,
            "display": null,
            "flex": null,
            "flex_flow": null,
            "grid_area": null,
            "grid_auto_columns": null,
            "grid_auto_flow": null,
            "grid_auto_rows": null,
            "grid_column": null,
            "grid_gap": null,
            "grid_row": null,
            "grid_template_areas": null,
            "grid_template_columns": null,
            "grid_template_rows": null,
            "height": null,
            "justify_content": null,
            "justify_items": null,
            "left": null,
            "margin": null,
            "max_height": null,
            "max_width": null,
            "min_height": null,
            "min_width": null,
            "object_fit": null,
            "object_position": null,
            "order": null,
            "overflow": null,
            "overflow_x": null,
            "overflow_y": null,
            "padding": null,
            "right": null,
            "top": null,
            "visibility": null,
            "width": null
          }
        },
        "a927442eefc64b6fb50c3ba1aad54a79": {
          "model_module": "@jupyter-widgets/controls",
          "model_module_version": "1.5.0",
          "model_name": "HTMLModel",
          "state": {
            "_dom_classes": [],
            "_model_module": "@jupyter-widgets/controls",
            "_model_module_version": "1.5.0",
            "_model_name": "HTMLModel",
            "_view_count": null,
            "_view_module": "@jupyter-widgets/controls",
            "_view_module_version": "1.5.0",
            "_view_name": "HTMLView",
            "description": "",
            "description_tooltip": null,
            "layout": "IPY_MODEL_eb1bc5c083194317b23968a0dac186a5",
            "placeholder": "​",
            "style": "IPY_MODEL_f7f019c91d9d48e8a3bd3f903425ab01",
            "value": "Validation DataLoader 0: 100%"
          }
        },
        "b045a4f6518946f99f5b7039080ea5cc": {
          "model_module": "@jupyter-widgets/controls",
          "model_module_version": "1.5.0",
          "model_name": "HTMLModel",
          "state": {
            "_dom_classes": [],
            "_model_module": "@jupyter-widgets/controls",
            "_model_module_version": "1.5.0",
            "_model_name": "HTMLModel",
            "_view_count": null,
            "_view_module": "@jupyter-widgets/controls",
            "_view_module_version": "1.5.0",
            "_view_name": "HTMLView",
            "description": "",
            "description_tooltip": null,
            "layout": "IPY_MODEL_9ff89ffc161f485e918410a95120ce4b",
            "placeholder": "​",
            "style": "IPY_MODEL_6b89999f9796487f935bb5bc8505eedc",
            "value": " 646/646 [04:37&lt;00:00,  2.33it/s, v_num=3adb, train_loss_step=1.72e+4, val_loss_step=1.65e+4, val_loss_epoch=1.84e+4, train_loss_epoch=1.86e+4]"
          }
        },
        "c4bf594202974b0588d9ac950b968c07": {
          "model_module": "@jupyter-widgets/controls",
          "model_module_version": "1.5.0",
          "model_name": "DescriptionStyleModel",
          "state": {
            "_model_module": "@jupyter-widgets/controls",
            "_model_module_version": "1.5.0",
            "_model_name": "DescriptionStyleModel",
            "_view_count": null,
            "_view_module": "@jupyter-widgets/base",
            "_view_module_version": "1.2.0",
            "_view_name": "StyleView",
            "description_width": ""
          }
        },
        "cc77b41e96454ac9bd5b96c8a3fe4227": {
          "model_module": "@jupyter-widgets/controls",
          "model_module_version": "1.5.0",
          "model_name": "HBoxModel",
          "state": {
            "_dom_classes": [],
            "_model_module": "@jupyter-widgets/controls",
            "_model_module_version": "1.5.0",
            "_model_name": "HBoxModel",
            "_view_count": null,
            "_view_module": "@jupyter-widgets/controls",
            "_view_module_version": "1.5.0",
            "_view_name": "HBoxView",
            "box_style": "",
            "children": [
              "IPY_MODEL_fd19810669d74d86889b929e8cd241dc",
              "IPY_MODEL_e005960d2300481aa0024c2eaa90009c",
              "IPY_MODEL_b045a4f6518946f99f5b7039080ea5cc"
            ],
            "layout": "IPY_MODEL_d3c3ca16599a4ddfbdc77ba36ce2a7c3"
          }
        },
        "ce90ce4caf1c43d496b9a3b0182339a3": {
          "model_module": "@jupyter-widgets/controls",
          "model_module_version": "1.5.0",
          "model_name": "HTMLModel",
          "state": {
            "_dom_classes": [],
            "_model_module": "@jupyter-widgets/controls",
            "_model_module_version": "1.5.0",
            "_model_name": "HTMLModel",
            "_view_count": null,
            "_view_module": "@jupyter-widgets/controls",
            "_view_module_version": "1.5.0",
            "_view_name": "HTMLView",
            "description": "",
            "description_tooltip": null,
            "layout": "IPY_MODEL_07562ebc6a314123863814bb496e3fb8",
            "placeholder": "​",
            "style": "IPY_MODEL_63eb27c952904ccf8ef9a1b843fe615e",
            "value": " 81/81 [00:21&lt;00:00,  3.75it/s]"
          }
        },
        "d3c3ca16599a4ddfbdc77ba36ce2a7c3": {
          "model_module": "@jupyter-widgets/base",
          "model_module_version": "1.2.0",
          "model_name": "LayoutModel",
          "state": {
            "_model_module": "@jupyter-widgets/base",
            "_model_module_version": "1.2.0",
            "_model_name": "LayoutModel",
            "_view_count": null,
            "_view_module": "@jupyter-widgets/base",
            "_view_module_version": "1.2.0",
            "_view_name": "LayoutView",
            "align_content": null,
            "align_items": null,
            "align_self": null,
            "border": null,
            "bottom": null,
            "display": "inline-flex",
            "flex": null,
            "flex_flow": "row wrap",
            "grid_area": null,
            "grid_auto_columns": null,
            "grid_auto_flow": null,
            "grid_auto_rows": null,
            "grid_column": null,
            "grid_gap": null,
            "grid_row": null,
            "grid_template_areas": null,
            "grid_template_columns": null,
            "grid_template_rows": null,
            "height": null,
            "justify_content": null,
            "justify_items": null,
            "left": null,
            "margin": null,
            "max_height": null,
            "max_width": null,
            "min_height": null,
            "min_width": null,
            "object_fit": null,
            "object_position": null,
            "order": null,
            "overflow": null,
            "overflow_x": null,
            "overflow_y": null,
            "padding": null,
            "right": null,
            "top": null,
            "visibility": null,
            "width": "100%"
          }
        },
        "e005960d2300481aa0024c2eaa90009c": {
          "model_module": "@jupyter-widgets/controls",
          "model_module_version": "1.5.0",
          "model_name": "FloatProgressModel",
          "state": {
            "_dom_classes": [],
            "_model_module": "@jupyter-widgets/controls",
            "_model_module_version": "1.5.0",
            "_model_name": "FloatProgressModel",
            "_view_count": null,
            "_view_module": "@jupyter-widgets/controls",
            "_view_module_version": "1.5.0",
            "_view_name": "ProgressView",
            "bar_style": "success",
            "description": "",
            "description_tooltip": null,
            "layout": "IPY_MODEL_e9034f6d706644f484882fac1deca98a",
            "max": 646,
            "min": 0,
            "orientation": "horizontal",
            "style": "IPY_MODEL_246ae182941d4caf9fa44f548d2b3a3b",
            "value": 646
          }
        },
        "e2cd45f6bde441d48a766343145b4483": {
          "model_module": "@jupyter-widgets/base",
          "model_module_version": "1.2.0",
          "model_name": "LayoutModel",
          "state": {
            "_model_module": "@jupyter-widgets/base",
            "_model_module_version": "1.2.0",
            "_model_name": "LayoutModel",
            "_view_count": null,
            "_view_module": "@jupyter-widgets/base",
            "_view_module_version": "1.2.0",
            "_view_name": "LayoutView",
            "align_content": null,
            "align_items": null,
            "align_self": null,
            "border": null,
            "bottom": null,
            "display": null,
            "flex": null,
            "flex_flow": null,
            "grid_area": null,
            "grid_auto_columns": null,
            "grid_auto_flow": null,
            "grid_auto_rows": null,
            "grid_column": null,
            "grid_gap": null,
            "grid_row": null,
            "grid_template_areas": null,
            "grid_template_columns": null,
            "grid_template_rows": null,
            "height": null,
            "justify_content": null,
            "justify_items": null,
            "left": null,
            "margin": null,
            "max_height": null,
            "max_width": null,
            "min_height": null,
            "min_width": null,
            "object_fit": null,
            "object_position": null,
            "order": null,
            "overflow": null,
            "overflow_x": null,
            "overflow_y": null,
            "padding": null,
            "right": null,
            "top": null,
            "visibility": null,
            "width": null
          }
        },
        "e337b4d2e3364ebb8b1fa7cb1bebf894": {
          "model_module": "@jupyter-widgets/controls",
          "model_module_version": "1.5.0",
          "model_name": "ProgressStyleModel",
          "state": {
            "_model_module": "@jupyter-widgets/controls",
            "_model_module_version": "1.5.0",
            "_model_name": "ProgressStyleModel",
            "_view_count": null,
            "_view_module": "@jupyter-widgets/base",
            "_view_module_version": "1.2.0",
            "_view_name": "StyleView",
            "bar_color": null,
            "description_width": ""
          }
        },
        "e49856c7b2d240f7b30b48fd440fede9": {
          "model_module": "@jupyter-widgets/base",
          "model_module_version": "1.2.0",
          "model_name": "LayoutModel",
          "state": {
            "_model_module": "@jupyter-widgets/base",
            "_model_module_version": "1.2.0",
            "_model_name": "LayoutModel",
            "_view_count": null,
            "_view_module": "@jupyter-widgets/base",
            "_view_module_version": "1.2.0",
            "_view_name": "LayoutView",
            "align_content": null,
            "align_items": null,
            "align_self": null,
            "border": null,
            "bottom": null,
            "display": null,
            "flex": null,
            "flex_flow": null,
            "grid_area": null,
            "grid_auto_columns": null,
            "grid_auto_flow": null,
            "grid_auto_rows": null,
            "grid_column": null,
            "grid_gap": null,
            "grid_row": null,
            "grid_template_areas": null,
            "grid_template_columns": null,
            "grid_template_rows": null,
            "height": null,
            "justify_content": null,
            "justify_items": null,
            "left": null,
            "margin": null,
            "max_height": null,
            "max_width": null,
            "min_height": null,
            "min_width": null,
            "object_fit": null,
            "object_position": null,
            "order": null,
            "overflow": null,
            "overflow_x": null,
            "overflow_y": null,
            "padding": null,
            "right": null,
            "top": null,
            "visibility": null,
            "width": null
          }
        },
        "e9034f6d706644f484882fac1deca98a": {
          "model_module": "@jupyter-widgets/base",
          "model_module_version": "1.2.0",
          "model_name": "LayoutModel",
          "state": {
            "_model_module": "@jupyter-widgets/base",
            "_model_module_version": "1.2.0",
            "_model_name": "LayoutModel",
            "_view_count": null,
            "_view_module": "@jupyter-widgets/base",
            "_view_module_version": "1.2.0",
            "_view_name": "LayoutView",
            "align_content": null,
            "align_items": null,
            "align_self": null,
            "border": null,
            "bottom": null,
            "display": null,
            "flex": "2",
            "flex_flow": null,
            "grid_area": null,
            "grid_auto_columns": null,
            "grid_auto_flow": null,
            "grid_auto_rows": null,
            "grid_column": null,
            "grid_gap": null,
            "grid_row": null,
            "grid_template_areas": null,
            "grid_template_columns": null,
            "grid_template_rows": null,
            "height": null,
            "justify_content": null,
            "justify_items": null,
            "left": null,
            "margin": null,
            "max_height": null,
            "max_width": null,
            "min_height": null,
            "min_width": null,
            "object_fit": null,
            "object_position": null,
            "order": null,
            "overflow": null,
            "overflow_x": null,
            "overflow_y": null,
            "padding": null,
            "right": null,
            "top": null,
            "visibility": null,
            "width": null
          }
        },
        "eb1bc5c083194317b23968a0dac186a5": {
          "model_module": "@jupyter-widgets/base",
          "model_module_version": "1.2.0",
          "model_name": "LayoutModel",
          "state": {
            "_model_module": "@jupyter-widgets/base",
            "_model_module_version": "1.2.0",
            "_model_name": "LayoutModel",
            "_view_count": null,
            "_view_module": "@jupyter-widgets/base",
            "_view_module_version": "1.2.0",
            "_view_name": "LayoutView",
            "align_content": null,
            "align_items": null,
            "align_self": null,
            "border": null,
            "bottom": null,
            "display": null,
            "flex": null,
            "flex_flow": null,
            "grid_area": null,
            "grid_auto_columns": null,
            "grid_auto_flow": null,
            "grid_auto_rows": null,
            "grid_column": null,
            "grid_gap": null,
            "grid_row": null,
            "grid_template_areas": null,
            "grid_template_columns": null,
            "grid_template_rows": null,
            "height": null,
            "justify_content": null,
            "justify_items": null,
            "left": null,
            "margin": null,
            "max_height": null,
            "max_width": null,
            "min_height": null,
            "min_width": null,
            "object_fit": null,
            "object_position": null,
            "order": null,
            "overflow": null,
            "overflow_x": null,
            "overflow_y": null,
            "padding": null,
            "right": null,
            "top": null,
            "visibility": null,
            "width": null
          }
        },
        "f00e597862824480b2f51acdd1193b68": {
          "model_module": "@jupyter-widgets/base",
          "model_module_version": "1.2.0",
          "model_name": "LayoutModel",
          "state": {
            "_model_module": "@jupyter-widgets/base",
            "_model_module_version": "1.2.0",
            "_model_name": "LayoutModel",
            "_view_count": null,
            "_view_module": "@jupyter-widgets/base",
            "_view_module_version": "1.2.0",
            "_view_name": "LayoutView",
            "align_content": null,
            "align_items": null,
            "align_self": null,
            "border": null,
            "bottom": null,
            "display": "inline-flex",
            "flex": null,
            "flex_flow": "row wrap",
            "grid_area": null,
            "grid_auto_columns": null,
            "grid_auto_flow": null,
            "grid_auto_rows": null,
            "grid_column": null,
            "grid_gap": null,
            "grid_row": null,
            "grid_template_areas": null,
            "grid_template_columns": null,
            "grid_template_rows": null,
            "height": null,
            "justify_content": null,
            "justify_items": null,
            "left": null,
            "margin": null,
            "max_height": null,
            "max_width": null,
            "min_height": null,
            "min_width": null,
            "object_fit": null,
            "object_position": null,
            "order": null,
            "overflow": null,
            "overflow_x": null,
            "overflow_y": null,
            "padding": null,
            "right": null,
            "top": null,
            "visibility": null,
            "width": "100%"
          }
        },
        "f7f019c91d9d48e8a3bd3f903425ab01": {
          "model_module": "@jupyter-widgets/controls",
          "model_module_version": "1.5.0",
          "model_name": "DescriptionStyleModel",
          "state": {
            "_model_module": "@jupyter-widgets/controls",
            "_model_module_version": "1.5.0",
            "_model_name": "DescriptionStyleModel",
            "_view_count": null,
            "_view_module": "@jupyter-widgets/base",
            "_view_module_version": "1.2.0",
            "_view_name": "StyleView",
            "description_width": ""
          }
        },
        "f88af46410664f529ccf997d5a559b68": {
          "model_module": "@jupyter-widgets/controls",
          "model_module_version": "1.5.0",
          "model_name": "HTMLModel",
          "state": {
            "_dom_classes": [],
            "_model_module": "@jupyter-widgets/controls",
            "_model_module_version": "1.5.0",
            "_model_name": "HTMLModel",
            "_view_count": null,
            "_view_module": "@jupyter-widgets/controls",
            "_view_module_version": "1.5.0",
            "_view_name": "HTMLView",
            "description": "",
            "description_tooltip": null,
            "layout": "IPY_MODEL_000fb3015f584242be1e50ce562871c4",
            "placeholder": "​",
            "style": "IPY_MODEL_46aee9384a504a7da4e862f1baf8ae52",
            "value": " 81/81 [00:19&lt;00:00,  4.13it/s]"
          }
        },
        "fd19810669d74d86889b929e8cd241dc": {
          "model_module": "@jupyter-widgets/controls",
          "model_module_version": "1.5.0",
          "model_name": "HTMLModel",
          "state": {
            "_dom_classes": [],
            "_model_module": "@jupyter-widgets/controls",
            "_model_module_version": "1.5.0",
            "_model_name": "HTMLModel",
            "_view_count": null,
            "_view_module": "@jupyter-widgets/controls",
            "_view_module_version": "1.5.0",
            "_view_name": "HTMLView",
            "description": "",
            "description_tooltip": null,
            "layout": "IPY_MODEL_a2b781b5875d4649838a898981de33c7",
            "placeholder": "​",
            "style": "IPY_MODEL_6c6341133ea34735af036e969cd14dcd",
            "value": "Epoch 0: 100%"
          }
        }
      }
    }
  },
  "nbformat": 4,
  "nbformat_minor": 0
}